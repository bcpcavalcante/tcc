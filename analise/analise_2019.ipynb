{
 "cells": [
  {
   "cell_type": "code",
   "execution_count": 1,
   "metadata": {},
   "outputs": [],
   "source": [
    "#Instalando as bibliotecas\n",
    "#%pip install pandas\n",
    "\n",
    "## Importar as bibliotecas\n",
    "import pandas as pd"
   ]
  },
  {
   "cell_type": "code",
   "execution_count": 18,
   "metadata": {},
   "outputs": [
    {
     "name": "stdout",
     "output_type": "stream",
     "text": [
      "<class 'pandas.core.frame.DataFrame'>\n",
      "RangeIndex: 121832 entries, 0 to 121831\n",
      "Data columns (total 20 columns):\n",
      " #   Column                Non-Null Count   Dtype         \n",
      "---  ------                --------------   -----         \n",
      " 0   REGISTRO              121832 non-null  int64         \n",
      " 1   VINCULO               121832 non-null  int64         \n",
      " 2   NOME                  121832 non-null  object        \n",
      " 3   CARGO_BASICO          121716 non-null  object        \n",
      " 4   REF_CARGO_BAS         121716 non-null  object        \n",
      " 5   SEGMENTO              55116 non-null   object        \n",
      " 6   GRUPO                 121832 non-null  object        \n",
      " 7   SUBGRUPO              121832 non-null  object        \n",
      " 8   ESCOL_CARGO_BASICO    121832 non-null  object        \n",
      " 9   CARGO_COMISSAO        8250 non-null    object        \n",
      " 10  REF_CARGO_COM         8250 non-null    object        \n",
      " 11  ESCOL_CARGO_COMISSAO  8250 non-null    object        \n",
      " 12  DATA_INICIO_EXERC     121832 non-null  datetime64[ns]\n",
      " 13  REL_JUR_ADM           121832 non-null  object        \n",
      " 14  SECRET_SUBPREF        121830 non-null  object        \n",
      " 15  SETOR                 121830 non-null  object        \n",
      " 16  SEXO                  121832 non-null  object        \n",
      " 17  ANO_NASCIMENTO        121832 non-null  int64         \n",
      " 18  RACA                  121832 non-null  object        \n",
      " 19  DEFICIENTE            121832 non-null  object        \n",
      "dtypes: datetime64[ns](1), int64(3), object(16)\n",
      "memory usage: 18.6+ MB\n"
     ]
    }
   ],
   "source": [
    "## Carregar o arquivo xlsx\n",
    "df = pd.read_excel(r'C:\\Repos\\tcc-bruna\\verificadoativos07-05-2019abr-2019.xlsx')\n",
    "\n"
   ]
  },
  {
   "cell_type": "code",
   "execution_count": 9,
   "metadata": {},
   "outputs": [
    {
     "name": "stdout",
     "output_type": "stream",
     "text": [
      "<class 'pandas.core.frame.DataFrame'>\n",
      "Index: 130776 entries, 0 to 130777\n",
      "Data columns (total 22 columns):\n",
      " #   Column                Non-Null Count   Dtype \n",
      "---  ------                --------------   ----- \n",
      " 0   REGISTRO              130776 non-null  object\n",
      " 1   VINCULO               130776 non-null  object\n",
      " 2   NOME                  130776 non-null  object\n",
      " 3   CARGO_BASICO          130751 non-null  object\n",
      " 4   REF_CARGO_BAS         130751 non-null  object\n",
      " 5   SEGMENTO              44665 non-null   object\n",
      " 6   GRUPO                 130776 non-null  object\n",
      " 7   SUBGRUPO              130776 non-null  object\n",
      " 8   ESCOL_CARGO_BASICO    130776 non-null  object\n",
      " 9   CARGO_COMISSAO        7327 non-null    object\n",
      " 10  REF_CARGO_COM         7327 non-null    object\n",
      " 11  ESCOL_CARGO_COMISSAO  7327 non-null    object\n",
      " 12  JORNADA               130776 non-null  object\n",
      " 13  DATA_INICIO_EXERC     130776 non-null  object\n",
      " 14  REL_JUR_ADM           130776 non-null  object\n",
      " 15  SECRET_SUBPREF        130776 non-null  object\n",
      " 16  SETOR                 130776 non-null  object\n",
      " 17  ORGAO_EXT             1242 non-null    object\n",
      " 18  SEXO                  130776 non-null  object\n",
      " 19  ANO_NASCIMENTO        130776 non-null  object\n",
      " 20  RACA                  130774 non-null  object\n",
      " 21  DEFICIENTE            130774 non-null  object\n",
      "dtypes: object(22)\n",
      "memory usage: 22.9+ MB\n"
     ]
    }
   ],
   "source": [
    "## Verificar o formato dos dados\n",
    "df.info()\n",
    "\n",
    "\n"
   ]
  },
  {
   "cell_type": "code",
   "execution_count": 19,
   "metadata": {},
   "outputs": [],
   "source": [
    "## Verificar a quantidade de valores nulos\n",
    "df.isnull().sum()\n",
    "## Remover as linhas que possuem valor nulo na coluna 'SETOR'\n",
    "df = df.dropna(subset=['SETOR'])"
   ]
  },
  {
   "cell_type": "code",
   "execution_count": 20,
   "metadata": {},
   "outputs": [],
   "source": [
    "## Selecionar as linhas que utilizaremos na análise\n",
    "## Vamos remover todas as observações que não possuem a substring ''BIBLIOTECA'' na coluna 'SETOR'\n",
    "df_bibliotecas = df[df['SETOR'].str.contains('BIBLIOTECA')]"
   ]
  },
  {
   "cell_type": "code",
   "execution_count": 21,
   "metadata": {},
   "outputs": [
    {
     "name": "stdout",
     "output_type": "stream",
     "text": [
      "<class 'pandas.core.frame.DataFrame'>\n",
      "Index: 386 entries, 151 to 121748\n",
      "Data columns (total 20 columns):\n",
      " #   Column                Non-Null Count  Dtype         \n",
      "---  ------                --------------  -----         \n",
      " 0   REGISTRO              386 non-null    int64         \n",
      " 1   VINCULO               386 non-null    int64         \n",
      " 2   NOME                  386 non-null    object        \n",
      " 3   CARGO_BASICO          386 non-null    object        \n",
      " 4   REF_CARGO_BAS         386 non-null    object        \n",
      " 5   SEGMENTO              363 non-null    object        \n",
      " 6   GRUPO                 386 non-null    object        \n",
      " 7   SUBGRUPO              386 non-null    object        \n",
      " 8   ESCOL_CARGO_BASICO    386 non-null    object        \n",
      " 9   CARGO_COMISSAO        75 non-null     object        \n",
      " 10  REF_CARGO_COM         75 non-null     object        \n",
      " 11  ESCOL_CARGO_COMISSAO  75 non-null     object        \n",
      " 12  DATA_INICIO_EXERC     386 non-null    datetime64[ns]\n",
      " 13  REL_JUR_ADM           386 non-null    object        \n",
      " 14  SECRET_SUBPREF        386 non-null    object        \n",
      " 15  SETOR                 386 non-null    object        \n",
      " 16  SEXO                  386 non-null    object        \n",
      " 17  ANO_NASCIMENTO        386 non-null    int64         \n",
      " 18  RACA                  386 non-null    object        \n",
      " 19  DEFICIENTE            386 non-null    object        \n",
      "dtypes: datetime64[ns](1), int64(3), object(16)\n",
      "memory usage: 63.3+ KB\n"
     ]
    }
   ],
   "source": [
    "## Verificar o formato dos dados resultantes\n",
    "df_bibliotecas.info()\n",
    "\n",
    "\n",
    "\n"
   ]
  },
  {
   "cell_type": "code",
   "execution_count": 22,
   "metadata": {},
   "outputs": [],
   "source": [
    "##Remover as linhas cuja variável 'SETOR' é BIBLIOTECA MUNICIPAL MARIO DE ANDRADE , BIBLIOTECA PUBLICA MUNICIPAL LOUIS BRAILLE, BIBLIOTECA PUBLICA MUNICIPAL SERGIO MILLIET, BIBLIOTECA JOAO CABRAL DE MELO NETO (CEU), BIBLIOTECA JORNALISTA ROBERTO MARINHO (CEU) e BIBLIOTECA RACHEL DE QUEIROZ (CEU)\n",
    "df_bibliotecas = df_bibliotecas[~df_bibliotecas['SETOR'].str.contains('BIBLIOTECA MUNICIPAL MARIO DE ANDRADE')]\n",
    "df_bibliotecas = df_bibliotecas[~df_bibliotecas['SETOR'].str.contains('BIBLIOTECA PUBLICA MUNICIPAL LOUIS BRAILLE')]\n",
    "df_bibliotecas = df_bibliotecas[~df_bibliotecas['SETOR'].str.contains('BIBLIOTECA PUBLICA MUNICIPAL SERGIO MILLIET')]\n",
    "df_bibliotecas = df_bibliotecas[~df_bibliotecas['SETOR'].str.contains('BIBLIOTECA JOAO CABRAL DE MELO NETO')]\n",
    "df_bibliotecas = df_bibliotecas[~df_bibliotecas['SETOR'].str.contains('BIBLIOTECA JORNALISTA ROBERTO MARINHO')]\n",
    "df_bibliotecas = df_bibliotecas[~df_bibliotecas['SETOR'].str.contains('BIBLIOTECA RACHEL DE QUEIROZ')]\n",
    "\n"
   ]
  },
  {
   "cell_type": "code",
   "execution_count": 23,
   "metadata": {},
   "outputs": [
    {
     "name": "stdout",
     "output_type": "stream",
     "text": [
      "                                                SETOR  QUANTIDADE\n",
      "0                           SUPERVISAO DE BIBLIOTECAS          44\n",
      "2     BIBLIOTECA PUBLICA MUNICIPAL ADELPHA FIGUEIREDO          14\n",
      "1     COORDENACAO DO SISTEMA MUNICIPAL DE BIBLIOTECAS          14\n",
      "3   BIBLIOTECA PUBLICA MUNICIPAL PREFEITO PRESTES MAI          13\n",
      "4        BIBLIOTECA PUBLICA MUNICIPAL MONTEIRO LOBATO          13\n",
      "5        BIBLIOTECA PUBLICA MUNICIPAL AFONSO SCHIMIDT          12\n",
      "6        BIBLIOTECA PUBLICA MUNICIPAL ERICO VERISSIMO           8\n",
      "7   BIBLIOTECA PUBLICA MUNICIPAL RUBENS BORBA ALVE...           8\n",
      "11   BIBLIOTECA PUBLICA MUNICIPAL RAIMUNDO DE MENEZES           7\n",
      "13    BIBLIOTECA PUBLICA MUNICIPAL VINICIUS DE MORAES           7\n",
      "12  BIBLIOTECA PUBLICA MUNICIPAL JOVINA ROCHA ALVARES           7\n",
      "10     BIBLIOTECA PUBLICA MUNICIPAL LENYRA FRACCAROLI           7\n",
      "9   BIBLIOTECA PUBLICA MUNICIPAL HANS CHRISTIAN ANDER           7\n",
      "8         BIBLIOTECA PUBLICA MUNICIPAL NUTO SANT'ANNA           7\n",
      "21            BIBLIOTECA PUBLICA MUNICIPAL ANNE FRANK           6\n",
      "26    BIBLIOTECA PUBLICA MUNICIPAL ALVARES DE AZEVEDO           6\n",
      "25         BIBLIOTECA PUBLICA MUNICIPAL NARBAL FONTES           6\n",
      "24  BIBLIOTECA PUBLICA MUNICIPAL PAULO SERGIO DUAR...           6\n",
      "23       BIBLIOTECA PUBLICA MUNICIPAL MARIO SCHENBERG           6\n",
      "22   BIBLIOTECA PUBLICA MUNICIPAL VICENTE DE CARVALHO           6\n",
      "15       BIBLIOTECA PUBLICA MUNICIPAL JOSE PAULO PAES           6\n",
      "20    BIBLIOTECA PUBLICA MUNICIPAL ALCEU AMOROSO LIMA           6\n",
      "19         BIBLIOTECA PUBLICA MUNICIPAL RICARDO RAMOS           6\n",
      "18  BIBLIOTECA PUBLICA MUNICIPAL CAMILA CERQUEIRA ...           6\n",
      "17       BIBLIOTECA PUBLICA MUNICIPAL AURELIANO LEITE           6\n",
      "16          BIBLIOTECA PUBLICA MUNICIPAL CASTRO ALVES           6\n",
      "14        BIBLIOTECA PUBLICA MUNICIPAL ROBERTO SANTOS           6\n",
      "32           BIBLIOTECA PUBLICA MUNICIPAL BRITO BROCA           5\n",
      "35  BIBLIOTECA PUBLICA MUNICIPAL THALES CASTANHO D...           5\n",
      "34      BIBLIOTECA PUBLICA MUNICIPAL CASSIANO RICARDO           5\n",
      "33  BIBLIOTECA PUBLICA MUNICIPAL JAMIL ALMANSUR HADDA           5\n",
      "29  BIBLIOTECA PUBLICA MUNICIPAL SERGIO BUARQUE DE...           5\n",
      "31  BIBLIOTECA PUBLICA MUNICIPAL PE. JOSE DE ANCHIETA           5\n",
      "28            BIBLIOTECA PUBLICA MUNICIPAL MARCOS REY           5\n",
      "27  BIBLIOTECA PUBLICA MUNICIPAL VICENTE PAULO GUI...           5\n",
      "30     BIBLIOTECA PUBLICA MUNICIPAL CLARICE LISPECTOR           5\n",
      "43        BIBLIOTECA PUBLICA MUNICIPAL VIRIATO CORREA           4\n",
      "50         BIBLIOTECA PUBLICA MUNICIPAL SYLVIA ORTHOF           4\n",
      "49         BIBLIOTECA PUBLICA MUNICIPAL CORA CORALINA           4\n",
      "48         BIBLIOTECA PUBLICA MUNICIPAL MILTON SANTOS           4\n",
      "47           BIBLIOTECA PUBLICA MUNICIPAL MALBA TAHAN           4\n",
      "46         BIBLIOTECA PUBLICA MUNICIPAL AMADEU AMARAL           4\n",
      "44              BIBLIOTECA PUBLICA MUNICIPAL BELMONTE           4\n",
      "45          BIBLIOTECA PUBLICA MUNICIPAL PAULO DUARTE           4\n",
      "42             BIBLIOTECA PUBLICA MUNICIPAL RAUL BOPP           4\n",
      "41   BIBLIOTECA PUBLICA MUNICIPAL MENOTTI DEL PICCHIA           4\n",
      "40       BIBLIOTECA PUBLICA MUNICIPAL HELENA SILVEIRA           4\n",
      "39       BIBLIOTECA PUBLICA MUNICIPAL GILBERTO FREYRE           4\n",
      "38        BIBLIOTECA PUBLICA MUNICIPAL AFFONSO TAUNAY           4\n",
      "37         BIBLIOTECA PUBLICA MUNICIPAL PAULO SETUBAL           4\n",
      "36  BIBLIOTECA PUBLICA MUNICIPAL JOSE MAURO DE VASCON           4\n",
      "51            BIBLIOTECA PUBLICA MUNICIPAL PEDRO NAVA           3\n",
      "52         BIBLIOTECA PUBLICA MUNICIPAL ALVARO GUERRA           3\n",
      "53                    NUCLEO DE BIBLIOTECAS ESPECIAIS           2\n",
      "54         NUCLEO REGIONAL DE BIBLIOTECAS LESTE E SUL           1\n",
      "55  BIBLIOTECA PUBLICA MUNICIPAL PROF ARNALDO MAGA...           1\n",
      "56  NUCLEO REGIONAL DE BIBLIOTECAS CENTRO, NORTE E...           1\n",
      "57    BIBLIOTECA PUBLICA MUNICIPAL CHACARA DO CASTELO           1\n"
     ]
    }
   ],
   "source": [
    "##Mostar a lista de bibliotecas distinta\n",
    "df_bibliotecas['SETOR'].unique()\n",
    "\n",
    "##Mostrar as informações dos setores\n",
    "setores_contagem = df_bibliotecas['SETOR'].value_counts()\n",
    "setores_contagem = setores_contagem.reset_index()\n",
    "setores_contagem.columns = ['SETOR', 'QUANTIDADE']\n",
    "setores_contagem = setores_contagem.sort_values(by='QUANTIDADE', ascending=False)\n",
    "print(setores_contagem)\n",
    "\n"
   ]
  },
  {
   "cell_type": "code",
   "execution_count": 26,
   "metadata": {},
   "outputs": [],
   "source": [
    "##Removendo as colunas que não serão utilizada\n",
    "\n",
    "bibliotecas = df_bibliotecas.drop(columns=['VINCULO', 'REF_CARGO_BAS', 'GRUPO', 'REF_CARGO_COM', 'ESCOL_CARGO_COMISSAO', 'RACA', 'DEFICIENTE'])"
   ]
  },
  {
   "cell_type": "code",
   "execution_count": 27,
   "metadata": {},
   "outputs": [
    {
     "name": "stdout",
     "output_type": "stream",
     "text": [
      "<class 'pandas.core.frame.DataFrame'>\n",
      "Index: 363 entries, 151 to 121748\n",
      "Data columns (total 13 columns):\n",
      " #   Column              Non-Null Count  Dtype         \n",
      "---  ------              --------------  -----         \n",
      " 0   REGISTRO            363 non-null    int64         \n",
      " 1   NOME                363 non-null    object        \n",
      " 2   CARGO_BASICO        363 non-null    object        \n",
      " 3   SEGMENTO            346 non-null    object        \n",
      " 4   SUBGRUPO            363 non-null    object        \n",
      " 5   ESCOL_CARGO_BASICO  363 non-null    object        \n",
      " 6   CARGO_COMISSAO      72 non-null     object        \n",
      " 7   DATA_INICIO_EXERC   363 non-null    datetime64[ns]\n",
      " 8   REL_JUR_ADM         363 non-null    object        \n",
      " 9   SECRET_SUBPREF      363 non-null    object        \n",
      " 10  SETOR               363 non-null    object        \n",
      " 11  SEXO                363 non-null    object        \n",
      " 12  ANO_NASCIMENTO      363 non-null    int64         \n",
      "dtypes: datetime64[ns](1), int64(2), object(10)\n",
      "memory usage: 39.7+ KB\n"
     ]
    }
   ],
   "source": [
    "##Info da base de dados limpa\n",
    "bibliotecas.info()"
   ]
  },
  {
   "cell_type": "code",
   "execution_count": 28,
   "metadata": {},
   "outputs": [
    {
     "name": "stdout",
     "output_type": "stream",
     "text": [
      "Quantidade de servidores do sexo masculino que completarão 65 anos em 2024: 39\n",
      "Quantidade de servidores do sexo feminino que completarão 62 anos em 2024: 94\n"
     ]
    }
   ],
   "source": [
    "## Mostrar a quantidade de observações cujo valor na coluna 'SEXO' É 'MASCULINO' e o valor na coluna 'ANO_NASCIMENTO' é menor ou igual a 1959\n",
    "masc_1959 = bibliotecas[(bibliotecas['SEXO'] == 'M') & (bibliotecas['ANO_NASCIMENTO'] <= 1959)]\n",
    "print(f'Quantidade de servidores do sexo masculino que completarão 65 anos em 2024: {masc_1959.shape[0]}')\n",
    "fem_1959 = bibliotecas[(bibliotecas['SEXO'] == 'F') & (bibliotecas['ANO_NASCIMENTO'] <= 1962)]\n",
    "print(f'Quantidade de servidores do sexo feminino que completarão 62 anos em 2024: {fem_1959.shape[0]}')"
   ]
  },
  {
   "cell_type": "code",
   "execution_count": 29,
   "metadata": {},
   "outputs": [
    {
     "name": "stdout",
     "output_type": "stream",
     "text": [
      "Empty DataFrame\n",
      "Columns: [REGISTRO, NOME, CARGO_BASICO, SEGMENTO, SUBGRUPO, ESCOL_CARGO_BASICO, CARGO_COMISSAO, DATA_INICIO_EXERC, REL_JUR_ADM, SECRET_SUBPREF, SETOR, SEXO, ANO_NASCIMENTO]\n",
      "Index: []\n",
      "<class 'pandas.core.frame.DataFrame'>\n",
      "Index: 363 entries, 151 to 121748\n",
      "Data columns (total 13 columns):\n",
      " #   Column              Non-Null Count  Dtype         \n",
      "---  ------              --------------  -----         \n",
      " 0   REGISTRO            363 non-null    int64         \n",
      " 1   NOME                363 non-null    object        \n",
      " 2   CARGO_BASICO        363 non-null    object        \n",
      " 3   SEGMENTO            346 non-null    object        \n",
      " 4   SUBGRUPO            363 non-null    object        \n",
      " 5   ESCOL_CARGO_BASICO  363 non-null    object        \n",
      " 6   CARGO_COMISSAO      72 non-null     object        \n",
      " 7   DATA_INICIO_EXERC   363 non-null    datetime64[ns]\n",
      " 8   REL_JUR_ADM         363 non-null    object        \n",
      " 9   SECRET_SUBPREF      363 non-null    object        \n",
      " 10  SETOR               363 non-null    object        \n",
      " 11  SEXO                363 non-null    object        \n",
      " 12  ANO_NASCIMENTO      363 non-null    int64         \n",
      "dtypes: datetime64[ns](1), int64(2), object(10)\n",
      "memory usage: 39.7+ KB\n"
     ]
    }
   ],
   "source": [
    "## Transformar os valores da coluna data de admissão em datetime\n",
    "bibliotecas['DATA_INICIO_EXERC'] = pd.to_datetime(bibliotecas['DATA_INICIO_EXERC'])\n",
    "\n",
    "# Verificar se alguma data não pôde ser convertida\n",
    "invalid_dates = bibliotecas[bibliotecas['DATA_INICIO_EXERC'].isna()]\n",
    "print(invalid_dates)\n",
    "\n",
    "bibliotecas.info()"
   ]
  },
  {
   "cell_type": "code",
   "execution_count": 30,
   "metadata": {},
   "outputs": [
    {
     "name": "stdout",
     "output_type": "stream",
     "text": [
      "Quantidade de servidores que ingressaram antes de 18/03/2022: 363\n",
      "Quantidade de servidores que ingressaram antes de 18/03/2022 e terão mais de 20 anos de serviço até 2024: 280\n",
      "Quantidade de servidores do sexo masculino que ingressaram antes de 18/03/2022, terão mais de 20 anos de serviço até 2024 e nasceram antes de 1965: 76\n",
      "Quantidade de servidores do sexo feminino que ingressaram antes de 18/03/2022, terão mais de 20 anos de serviço até 2024 e nasceram antes de 1968: 136\n",
      "Quantidade de servidoras do sexo feminino que ingressaram antes de 18/03/2022, terão mais de 20 anos de serviço até 2024, nasceram antes de 1968 e terão mais de 30 anos de serviço até 2024: 117\n",
      "Quantidade de servidores do sexo masculino que ingressaram antes de 18/03/2022, terão mais de 20 anos de serviço até 2024, nasceram antes de 1965 e terão mais de 35 anos de serviço até 2024: 14\n",
      "Quantidade de servidores que ingressaram antes de 18/03/2022 e terão mais de 25 anos de serviço até 2029: 284\n"
     ]
    }
   ],
   "source": [
    "##Contar quantos servidores ingressaram antes de 18/03/2022\n",
    "antes_2022 = bibliotecas[bibliotecas['DATA_INICIO_EXERC'] < '2022-03-18']\n",
    "print(f'Quantidade de servidores que ingressaram antes de 18/03/2022: {antes_2022.shape[0]}')\n",
    "\n",
    "##Desses servidores, quantos terão mais de 20 anos de serviço até 2024\n",
    "antes_2022_mais_20_serv = antes_2022[antes_2022['DATA_INICIO_EXERC'] < '2005-01-01']\n",
    "print(f'Quantidade de servidores que ingressaram antes de 18/03/2022 e terão mais de 20 anos de serviço até 2024: {antes_2022_mais_20_serv.shape[0]}')\n",
    "\n",
    "##Desses servidores, quantos são do sexo masculino e nasceram antes de 1965\n",
    "antes_2022_mais_20_serv_masc = antes_2022_mais_20_serv[(antes_2022_mais_20_serv['SEXO'] == 'M') & (antes_2022_mais_20_serv['ANO_NASCIMENTO'] < 1965)]\n",
    "print(f'Quantidade de servidores do sexo masculino que ingressaram antes de 18/03/2022, terão mais de 20 anos de serviço até 2024 e nasceram antes de 1965: {antes_2022_mais_20_serv_masc.shape[0]}')\n",
    "\n",
    "##Faremos o mesmo para os servidores do sexo feminino, e considerando as mulheres que nasceram antes de 1968\n",
    "antes_2022_mais_20_serv_fem = antes_2022_mais_20_serv[(antes_2022_mais_20_serv['SEXO'] == 'F') & (antes_2022_mais_20_serv['ANO_NASCIMENTO'] < 1968)]\n",
    "print(f'Quantidade de servidores do sexo feminino que ingressaram antes de 18/03/2022, terão mais de 20 anos de serviço até 2024 e nasceram antes de 1968: {antes_2022_mais_20_serv_fem.shape[0]}')\n",
    "\n",
    "##Dessa tabela de servidoras, quantas tem mais de 30 anos de serviço\n",
    "antes_2022_mais_20_serv_fem_mais_30_serv = antes_2022_mais_20_serv_fem[antes_2022_mais_20_serv_fem['DATA_INICIO_EXERC'] < '1995-01-01']\n",
    "print(f'Quantidade de servidoras do sexo feminino que ingressaram antes de 18/03/2022, terão mais de 20 anos de serviço até 2024, nasceram antes de 1968 e terão mais de 30 anos de serviço até 2024: {antes_2022_mais_20_serv_fem_mais_30_serv.shape[0]}')\n",
    "\n",
    "##Dos servidores do sexo masculino que ingressaram antes de 18/03/2022, quantos terão mais de 35 anos de serviço até 2024\n",
    "antes_2022_mais_20_serv_masc_mais_35_serv = antes_2022_mais_20_serv_masc[antes_2022_mais_20_serv_masc['DATA_INICIO_EXERC'] < '1990-01-01']\n",
    "print(f'Quantidade de servidores do sexo masculino que ingressaram antes de 18/03/2022, terão mais de 20 anos de serviço até 2024, nasceram antes de 1965 e terão mais de 35 anos de serviço até 2024: {antes_2022_mais_20_serv_masc_mais_35_serv.shape[0]}')\n",
    "\n",
    "##Faremos projeções para o ano de 2029\n",
    "##Dos servidores que entraram antes de 18/03/2022, quantos terão mais de 25 anos de serviço até 2029\n",
    "antes_2022_mais_20_serv_mais_25_serv = antes_2022[antes_2022['DATA_INICIO_EXERC'] < '2009-01-01']\n",
    "print(f'Quantidade de servidores que ingressaram antes de 18/03/2022 e terão mais de 25 anos de serviço até 2029: {antes_2022_mais_20_serv_mais_25_serv.shape[0]}')\n"
   ]
  },
  {
   "cell_type": "code",
   "execution_count": 32,
   "metadata": {},
   "outputs": [
    {
     "name": "stdout",
     "output_type": "stream",
     "text": [
      "Quantidade de servidoras do sexo feminino que ingressaram antes de 2014 e nasceram em/antes de 1962:49\n",
      "Quantidade de servidoras do sexo feminino que ingressaram antes de 2014 e nasceram em/antes de 1962 e tem mais de 25 anos de serviço público:40\n",
      "Quantidade de servidores do sexo masculino que ingressaram antes de 2014 e nasceram em/antes de 1959:19\n",
      "Quantidade de servidores do sexo masculino que ingressaram antes de 2014 e nasceram em/antes de 1959 e tem mais de 35 anos de serviço público:5\n"
     ]
    }
   ],
   "source": [
    "## Vamos criar um dataset, com as servidoras que tem mais de 62 anos, e no mínimo 10 anos de serviço público\n",
    "servFem_possivelmente_aposentaveis = bibliotecas[(bibliotecas['SEXO'] == 'F') & (bibliotecas['ANO_NASCIMENTO'] <= 1962) & (bibliotecas['DATA_INICIO_EXERC'] < '2014-01-01')]\n",
    "\n",
    "##Mostrar a quantidade de servidoras aposentáveis\n",
    "print(f'Quantidade de servidoras do sexo feminino que ingressaram antes de 2014 e nasceram em/antes de 1962:{len(servFem_possivelmente_aposentaveis)}')\n",
    "\n",
    "##Dentre esses servidores, quantos tem mais de 25 anos de serviço público\n",
    "servFem_certamente_aposentaveis = servFem_possivelmente_aposentaveis[servFem_possivelmente_aposentaveis['DATA_INICIO_EXERC'] < '1999-01-01']\n",
    "print(f'Quantidade de servidoras do sexo feminino que ingressaram antes de 2014 e nasceram em/antes de 1962 e tem mais de 25 anos de serviço público:{len(servFem_certamente_aposentaveis)}')\n",
    "\n",
    "##Faremos o mesmo para os servidores do sexo masculino\n",
    "servMasc_possivelmente_aposentaveis = bibliotecas[(bibliotecas['SEXO'] == 'M') & (bibliotecas['ANO_NASCIMENTO'] <= 1959) & (bibliotecas['DATA_INICIO_EXERC'] < '2014-01-01')]\n",
    "print(f'Quantidade de servidores do sexo masculino que ingressaram antes de 2014 e nasceram em/antes de 1959:{len(servMasc_possivelmente_aposentaveis)}')\n",
    "\n",
    "servMasc_certamente_aposentaveis = servMasc_possivelmente_aposentaveis[servMasc_possivelmente_aposentaveis['DATA_INICIO_EXERC'] < '1989-01-01']\n",
    "print(f'Quantidade de servidores do sexo masculino que ingressaram antes de 2014 e nasceram em/antes de 1959 e tem mais de 35 anos de serviço público:{len(servMasc_certamente_aposentaveis)}')\n",
    "\n",
    "\n"
   ]
  },
  {
   "cell_type": "code",
   "execution_count": 33,
   "metadata": {},
   "outputs": [
    {
     "name": "stdout",
     "output_type": "stream",
     "text": [
      "<class 'pandas.core.frame.DataFrame'>\n",
      "RangeIndex: 45 entries, 0 to 44\n",
      "Data columns (total 13 columns):\n",
      " #   Column              Non-Null Count  Dtype         \n",
      "---  ------              --------------  -----         \n",
      " 0   REGISTRO            45 non-null     object        \n",
      " 1   NOME                45 non-null     object        \n",
      " 2   CARGO_BASICO        45 non-null     object        \n",
      " 3   SEGMENTO            8 non-null      object        \n",
      " 4   SUBGRUPO            45 non-null     object        \n",
      " 5   ESCOL_CARGO_BASICO  45 non-null     object        \n",
      " 6   CARGO_COMISSAO      3 non-null      object        \n",
      " 7   DATA_INICIO_EXERC   45 non-null     datetime64[ns]\n",
      " 8   REL_JUR_ADM         45 non-null     object        \n",
      " 9   SECRET_SUBPREF      45 non-null     object        \n",
      " 10  SETOR               45 non-null     object        \n",
      " 11  SEXO                45 non-null     object        \n",
      " 12  ANO_NASCIMENTO      45 non-null     int32         \n",
      "dtypes: datetime64[ns](1), int32(1), object(11)\n",
      "memory usage: 4.5+ KB\n",
      "<class 'pandas.core.frame.DataFrame'>\n",
      "RangeIndex: 68 entries, 0 to 67\n",
      "Data columns (total 13 columns):\n",
      " #   Column              Non-Null Count  Dtype         \n",
      "---  ------              --------------  -----         \n",
      " 0   REGISTRO            68 non-null     object        \n",
      " 1   NOME                68 non-null     object        \n",
      " 2   CARGO_BASICO        68 non-null     object        \n",
      " 3   SEGMENTO            14 non-null     object        \n",
      " 4   SUBGRUPO            68 non-null     object        \n",
      " 5   ESCOL_CARGO_BASICO  68 non-null     object        \n",
      " 6   CARGO_COMISSAO      8 non-null      object        \n",
      " 7   DATA_INICIO_EXERC   68 non-null     datetime64[ns]\n",
      " 8   REL_JUR_ADM         68 non-null     object        \n",
      " 9   SECRET_SUBPREF      68 non-null     object        \n",
      " 10  SETOR               68 non-null     object        \n",
      " 11  SEXO                68 non-null     object        \n",
      " 12  ANO_NASCIMENTO      68 non-null     int32         \n",
      "dtypes: datetime64[ns](1), int32(1), object(11)\n",
      "memory usage: 6.8+ KB\n"
     ]
    }
   ],
   "source": [
    "##criar um novo dataframe sem os servidores e servidoras que certamente se aposentarão\n",
    "certamente_aposentaveis = pd.concat([servFem_certamente_aposentaveis, servMasc_certamente_aposentaveis], ignore_index=True)\n",
    "certamente_aposentaveis.info()\n",
    "\n",
    "##criar um novo dataframe sem os servidores e servidoras que possivelmente se aposentarão\n",
    "possivelmente_aposentaveis = pd.concat([servFem_possivelmente_aposentaveis, servMasc_possivelmente_aposentaveis], ignore_index=True)\n",
    "possivelmente_aposentaveis.info()"
   ]
  },
  {
   "cell_type": "code",
   "execution_count": 34,
   "metadata": {},
   "outputs": [
    {
     "name": "stdout",
     "output_type": "stream",
     "text": [
      "<class 'pandas.core.frame.DataFrame'>\n",
      "Index: 294 entries, 57516 to 127354\n",
      "Data columns (total 13 columns):\n",
      " #   Column              Non-Null Count  Dtype         \n",
      "---  ------              --------------  -----         \n",
      " 0   REGISTRO            294 non-null    object        \n",
      " 1   NOME                294 non-null    object        \n",
      " 2   CARGO_BASICO        294 non-null    object        \n",
      " 3   SEGMENTO            99 non-null     object        \n",
      " 4   SUBGRUPO            294 non-null    object        \n",
      " 5   ESCOL_CARGO_BASICO  294 non-null    object        \n",
      " 6   CARGO_COMISSAO      65 non-null     object        \n",
      " 7   DATA_INICIO_EXERC   294 non-null    datetime64[ns]\n",
      " 8   REL_JUR_ADM         294 non-null    object        \n",
      " 9   SECRET_SUBPREF      294 non-null    object        \n",
      " 10  SETOR               294 non-null    object        \n",
      " 11  SEXO                294 non-null    object        \n",
      " 12  ANO_NASCIMENTO      294 non-null    int32         \n",
      "dtypes: datetime64[ns](1), int32(1), object(11)\n",
      "memory usage: 31.0+ KB\n"
     ]
    }
   ],
   "source": [
    "##Removendo do dataset original os servidores e servidoras que certamente se aposentarão, usando a coluna REGISTRO como chave\n",
    "servidores_restantes = bibliotecas[~bibliotecas['REGISTRO'].isin(certamente_aposentaveis['REGISTRO'])]\n",
    "servidores_restantes.info()\n"
   ]
  },
  {
   "cell_type": "code",
   "execution_count": 35,
   "metadata": {},
   "outputs": [
    {
     "name": "stdout",
     "output_type": "stream",
     "text": [
      "                                                SETOR  QUANTIDADE\n",
      "0                           SUPERVISAO DE BIBLIOTECAS          32\n",
      "1     COORDENACAO DO SISTEMA MUNICIPAL DE BIBLIOTECAS          14\n",
      "2        BIBLIOTECA PUBLICA MUNICIPAL AFONSO SCHIMIDT          11\n",
      "3        BIBLIOTECA PUBLICA MUNICIPAL MONTEIRO LOBATO           9\n",
      "4     BIBLIOTECA PUBLICA MUNICIPAL VINICIUS DE MORAES           7\n",
      "5   BIBLIOTECA PUBLICA MUNICIPAL PE. JOSE DE ANCHIETA           7\n",
      "6    BIBLIOTECA PUBLICA MUNICIPAL RAIMUNDO DE MENEZES           7\n",
      "7          BIBLIOTECA PUBLICA MUNICIPAL RICARDO RAMOS           7\n",
      "11    BIBLIOTECA PUBLICA MUNICIPAL ALVARES DE AZEVEDO           6\n",
      "13         BIBLIOTECA PUBLICA MUNICIPAL CORA CORALINA           6\n",
      "12   BIBLIOTECA PUBLICA MUNICIPAL MENOTTI DEL PICCHIA           6\n",
      "10        BIBLIOTECA PUBLICA MUNICIPAL VIRIATO CORREA           6\n",
      "9   BIBLIOTECA PUBLICA MUNICIPAL JAMIL ALMANSUR HADDA           6\n",
      "8             BIBLIOTECA PUBLICA MUNICIPAL ANNE FRANK           6\n",
      "21    BIBLIOTECA PUBLICA MUNICIPAL ADELPHA FIGUEIREDO           5\n",
      "26          BIBLIOTECA PUBLICA MUNICIPAL CASTRO ALVES           5\n",
      "25  BIBLIOTECA PUBLICA MUNICIPAL CAMILA CERQUEIRA ...           5\n",
      "24       BIBLIOTECA PUBLICA MUNICIPAL AURELIANO LEITE           5\n",
      "23  BIBLIOTECA PUBLICA MUNICIPAL HANS CHRISTIAN ANDER           5\n",
      "22    BIBLIOTECA PUBLICA MUNICIPAL ALCEU AMOROSO LIMA           5\n",
      "16                    NUCLEO DE BIBLIOTECAS ESPECIAIS           5\n",
      "20  BIBLIOTECA PUBLICA MUNICIPAL JOSE MAURO DE VASCON           5\n",
      "19  BIBLIOTECA PUBLICA MUNICIPAL JOVINA ROCHA ALVARES           5\n",
      "18     BIBLIOTECA PUBLICA MUNICIPAL LENYRA FRACCAROLI           5\n",
      "17            BIBLIOTECA PUBLICA MUNICIPAL MARCOS REY           5\n",
      "15            BIBLIOTECA PUBLICA MUNICIPAL PEDRO NAVA           5\n",
      "14        BIBLIOTECA PUBLICA MUNICIPAL ROBERTO SANTOS           5\n",
      "34       BIBLIOTECA PUBLICA MUNICIPAL MARIO SCHENBERG           4\n",
      "39     BIBLIOTECA PUBLICA MUNICIPAL CLARICE LISPECTOR           4\n",
      "38        BIBLIOTECA PUBLICA MUNICIPAL NUTO SANT'ANNA           4\n",
      "37       BIBLIOTECA PUBLICA MUNICIPAL ERICO VERISSIMO           4\n",
      "36           BIBLIOTECA PUBLICA MUNICIPAL MALBA TAHAN           4\n",
      "35         BIBLIOTECA PUBLICA MUNICIPAL NARBAL FONTES           4\n",
      "29  BIBLIOTECA PUBLICA MUNICIPAL VICENTE PAULO GUI...           4\n",
      "33              BIBLIOTECA PUBLICA MUNICIPAL BELMONTE           4\n",
      "31  BIBLIOTECA PUBLICA MUNICIPAL SERGIO BUARQUE DE...           4\n",
      "30   BIBLIOTECA PUBLICA MUNICIPAL VICENTE DE CARVALHO           4\n",
      "28  BIBLIOTECA PUBLICA MUNICIPAL PAULO SERGIO DUAR...           4\n",
      "27  BIBLIOTECA PUBLICA MUNICIPAL PREFEITO PRESTES MAI           4\n",
      "32  BIBLIOTECA PUBLICA MUNICIPAL RUBENS BORBA ALVE...           4\n",
      "45           BIBLIOTECA PUBLICA MUNICIPAL BRITO BROCA           3\n",
      "49      BIBLIOTECA PUBLICA MUNICIPAL CASSIANO RICARDO           3\n",
      "48       BIBLIOTECA PUBLICA MUNICIPAL HELENA SILVEIRA           3\n",
      "47  BIBLIOTECA PUBLICA MUNICIPAL PROF ARNALDO MAGA...           3\n",
      "46             BIBLIOTECA PUBLICA MUNICIPAL RAUL BOPP           3\n",
      "44          BIBLIOTECA PUBLICA MUNICIPAL JAYME CORTEZ           3\n",
      "43  BIBLIOTECA PUBLICA MUNICIPAL THALES CASTANHO D...           3\n",
      "42       BIBLIOTECA PUBLICA MUNICIPAL JOSE PAULO PAES           3\n",
      "41         BIBLIOTECA PUBLICA MUNICIPAL MILTON SANTOS           3\n",
      "40        BIBLIOTECA PUBLICA MUNICIPAL AFFONSO TAUNAY           3\n",
      "50    BIBLIOTECA PUBLICA MUNICIPAL CHACARA DO CASTELO           2\n",
      "51         BIBLIOTECA PUBLICA MUNICIPAL SYLVIA ORTHOF           2\n",
      "52       BIBLIOTECA PUBLICA MUNICIPAL GILBERTO FREYRE           2\n",
      "53         BIBLIOTECA PUBLICA MUNICIPAL AMADEU AMARAL           2\n",
      "54         BIBLIOTECA PUBLICA MUNICIPAL ALVARO GUERRA           2\n",
      "55         BIBLIOTECA PUBLICA MUNICIPAL PAULO SETUBAL           2\n",
      "56  NUCLEO REGIONAL DE BIBLIOTECAS CENTRO, NORTE E...           2\n",
      "57          BIBLIOTECA PUBLICA MUNICIPAL PAULO DUARTE           2\n",
      "58         NUCLEO REGIONAL DE BIBLIOTECAS LESTE E SUL           1\n"
     ]
    }
   ],
   "source": [
    "##Verificando após a remoção de servidores que possivelmente se aposentarão, quantos servidores restaram em cada setor\n",
    "setores_contagem_apos = servidores_restantes['SETOR'].value_counts()\n",
    "setores_contagem_apos = setores_contagem_apos.reset_index()\n",
    "setores_contagem_apos.columns = ['SETOR', 'QUANTIDADE']\n",
    "setores_contagem_apos = setores_contagem_apos.sort_values(by='QUANTIDADE', ascending=False)\n",
    "print(setores_contagem_apos)"
   ]
  },
  {
   "cell_type": "code",
   "execution_count": 36,
   "metadata": {},
   "outputs": [
    {
     "name": "stdout",
     "output_type": "stream",
     "text": [
      "Quantidade de servidoras do sexo feminino que ingressaram antes de 1994 e nasceram em/antes de 1967:61\n"
     ]
    }
   ],
   "source": [
    "##Do dataframe bibliotecas, extrairemos um dataset com as servidoras que terão mais de 57 anos ao final de 2024, e que terão mais de 30 anos de serviço público\n",
    "servidoras_30mais = bibliotecas[(bibliotecas['SEXO'] == 'F') & (bibliotecas['ANO_NASCIMENTO'] <= 1967) & (bibliotecas['DATA_INICIO_EXERC'] < '1994-01-01')]\n",
    "print(f'Quantidade de servidoras do sexo feminino que ingressaram antes de 1994 e nasceram em/antes de 1967:{len(servidoras_30mais)}')\n"
   ]
  },
  {
   "cell_type": "code",
   "execution_count": 37,
   "metadata": {},
   "outputs": [
    {
     "name": "stdout",
     "output_type": "stream",
     "text": [
      "Quantidade de servidoras do sexo feminino que ingressaram antes de 2020 e nasceram em/antes de 1967:86\n",
      "Quantidade de servidoras do sexo feminino que ingressaram antes de 2019 e nasceram em/antes de 1967 e tem mais de 25 anos de serviço público:74\n",
      "Quantidade de servidores do sexo masculino que ingressaram antes de 2020 e nasceram em/antes de 1964:50\n",
      "Quantidade de servidores do sexo masculino que ingressaram antes de 2019 e nasceram em/antes de 1964 e tem mais de 25 anos de serviço público:48\n"
     ]
    }
   ],
   "source": [
    "##Faremos uma projeção para o final de 2029, e verificaremos quantas servidoras terão mais de 62 anos, e mais de 10 anos de serviço público\n",
    "proj_4anos_servidoras_62_10 = bibliotecas[(bibliotecas['SEXO'] == 'F') & (bibliotecas['ANO_NASCIMENTO'] <= 1967) & (bibliotecas['DATA_INICIO_EXERC'] < '2020-01-01')]\n",
    "print(f'Quantidade de servidoras do sexo feminino que ingressaram antes de 2020 e nasceram em/antes de 1967:{len(proj_4anos_servidoras_62_10)}')\n",
    "\n",
    "##Vamos verificar quantas dessas terão mais de 25 anos de serviço público\n",
    "proj_4anos_servidoras_62_25 = proj_4anos_servidoras_62_10[proj_4anos_servidoras_62_10['DATA_INICIO_EXERC'] < '2005-01-01']\n",
    "print(f'Quantidade de servidoras do sexo feminino que ingressaram antes de 2019 e nasceram em/antes de 1967 e tem mais de 25 anos de serviço público:{len(proj_4anos_servidoras_62_25)}')\n",
    "\n",
    "##Faremos o mesmo para os servidores do sexo masculino\n",
    "proj_4anos_servidores_65_10 = bibliotecas[(bibliotecas['SEXO'] == 'M') & (bibliotecas['ANO_NASCIMENTO'] <= 1964) & (bibliotecas['DATA_INICIO_EXERC'] < '2020-01-01')]\n",
    "print(f'Quantidade de servidores do sexo masculino que ingressaram antes de 2020 e nasceram em/antes de 1964:{len(proj_4anos_servidores_65_10)}')\n",
    "\n",
    "proj_4anos_servidores_65_25 = proj_4anos_servidores_65_10[proj_4anos_servidores_65_10['DATA_INICIO_EXERC'] < '2005-01-01']\n",
    "print(f'Quantidade de servidores do sexo masculino que ingressaram antes de 2019 e nasceram em/antes de 1964 e tem mais de 25 anos de serviço público:{len(proj_4anos_servidores_65_25)}')\n",
    "\n"
   ]
  },
  {
   "cell_type": "code",
   "execution_count": null,
   "metadata": {},
   "outputs": [],
   "source": []
  }
 ],
 "metadata": {
  "kernelspec": {
   "display_name": "Python 3",
   "language": "python",
   "name": "python3"
  },
  "language_info": {
   "codemirror_mode": {
    "name": "ipython",
    "version": 3
   },
   "file_extension": ".py",
   "mimetype": "text/x-python",
   "name": "python",
   "nbconvert_exporter": "python",
   "pygments_lexer": "ipython3",
   "version": "3.10.6"
  }
 },
 "nbformat": 4,
 "nbformat_minor": 2
}
