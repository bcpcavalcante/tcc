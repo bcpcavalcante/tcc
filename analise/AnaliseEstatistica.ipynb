{
 "cells": [
  {
   "cell_type": "code",
   "execution_count": 12,
   "metadata": {},
   "outputs": [
    {
     "name": "stdout",
     "output_type": "stream",
     "text": [
      "Defaulting to user installation because normal site-packages is not writeable"
     ]
    },
    {
     "name": "stderr",
     "output_type": "stream",
     "text": [
      "DEPRECATION: omegaconf 2.0.6 has a non-standard dependency specifier PyYAML>=5.1.*. pip 24.1 will enforce this behaviour change. A possible replacement is to upgrade to a newer version of omegaconf or contact the author to suggest that they release a version with a conforming dependency specifiers. Discussion can be found at https://github.com/pypa/pip/issues/12063"
     ]
    },
    {
     "name": "stdout",
     "output_type": "stream",
     "text": [
      "\n",
      "Requirement already satisfied: pandas in c:\\users\\freda\\appdata\\roaming\\python\\python310\\site-packages (2.2.2)\n",
      "Requirement already satisfied: numpy>=1.22.4 in c:\\users\\freda\\appdata\\roaming\\python\\python310\\site-packages (from pandas) (1.23.5)\n",
      "Requirement already satisfied: python-dateutil>=2.8.2 in c:\\users\\freda\\appdata\\roaming\\python\\python310\\site-packages (from pandas) (2.9.0.post0)\n",
      "Requirement already satisfied: pytz>=2020.1 in c:\\users\\freda\\appdata\\roaming\\python\\python310\\site-packages (from pandas) (2024.1)\n",
      "Requirement already satisfied: tzdata>=2022.7 in c:\\users\\freda\\appdata\\roaming\\python\\python310\\site-packages (from pandas) (2024.1)\n",
      "Requirement already satisfied: six>=1.5 in c:\\users\\freda\\appdata\\roaming\\python\\python310\\site-packages (from python-dateutil>=2.8.2->pandas) (1.16.0)\n"
     ]
    },
    {
     "name": "stderr",
     "output_type": "stream",
     "text": [
      "\n",
      "\n",
      "[notice] A new release of pip is available: 24.0 -> 24.1.2\n",
      "[notice] To update, run: python.exe -m pip install --upgrade pip\n"
     ]
    }
   ],
   "source": [
    "#instalando os pacotes necessários\n",
    "%pip install pandas"
   ]
  },
  {
   "cell_type": "code",
   "execution_count": 13,
   "metadata": {},
   "outputs": [],
   "source": [
    "#Importando as bibliotecas\n",
    "import pandas as pd"
   ]
  },
  {
   "cell_type": "code",
   "execution_count": 14,
   "metadata": {},
   "outputs": [],
   "source": [
    "#Lendo o arquivo\n",
    "df = pd.read_csv(r'c:\\Repos\\tcc-bruna\\Servidores-2024 .csv')"
   ]
  },
  {
   "cell_type": "code",
   "execution_count": 15,
   "metadata": {},
   "outputs": [],
   "source": [
    "def clean_data(df):\n",
    "    # Drop columns: 'REGISTRO', 'NOME'\n",
    "    df = df.drop(columns=['REGISTRO', 'NOME','SEGMENTO','SECRET_SUBPREF'])\n",
    "    return df\n"
   ]
  },
  {
   "cell_type": "code",
   "execution_count": 71,
   "metadata": {},
   "outputs": [
    {
     "name": "stdout",
     "output_type": "stream",
     "text": [
      "<class 'pandas.core.frame.DataFrame'>\n",
      "RangeIndex: 349 entries, 0 to 348\n",
      "Data columns (total 9 columns):\n",
      " #   Column              Non-Null Count  Dtype \n",
      "---  ------              --------------  ----- \n",
      " 0   CARGO_BASICO        349 non-null    object\n",
      " 1   SUBGRUPO            349 non-null    object\n",
      " 2   ESCOL_CARGO_BASICO  349 non-null    object\n",
      " 3   CARGO_COMISSAO      69 non-null     object\n",
      " 4   DATA_INICIO_EXERC   349 non-null    object\n",
      " 5   REL_JUR_ADM         349 non-null    object\n",
      " 6   SETOR               349 non-null    object\n",
      " 7   SEXO                349 non-null    object\n",
      " 8   ANO_NASCIMENTO      349 non-null    int64 \n",
      "dtypes: int64(1), object(8)\n",
      "memory usage: 24.7+ KB\n"
     ]
    }
   ],
   "source": [
    "df_clean = clean_data(df.copy())\n",
    "df_clean.head()\n",
    "df_clean.info()"
   ]
  },
  {
   "cell_type": "code",
   "execution_count": 34,
   "metadata": {},
   "outputs": [
    {
     "name": "stdout",
     "output_type": "stream",
     "text": [
      "Quantidade de setores que começam com a palavra BIBLIOTECA: 54\n",
      "BIBLIOTECA PUBLICA MUNICIPAL ADELPHA FIGUEIREDO\n",
      "BIBLIOTECA PUBLICA MUNICIPAL AFFONSO TAUNAY\n",
      "BIBLIOTECA PUBLICA MUNICIPAL AFONSO SCHIMIDT\n",
      "BIBLIOTECA PUBLICA MUNICIPAL ALCEU AMOROSO LIMA\n",
      "BIBLIOTECA PUBLICA MUNICIPAL ALVARES DE AZEVEDO\n",
      "BIBLIOTECA PUBLICA MUNICIPAL ALVARO GUERRA\n",
      "BIBLIOTECA PUBLICA MUNICIPAL AMADEU AMARAL\n",
      "BIBLIOTECA PUBLICA MUNICIPAL ANNE FRANK\n",
      "BIBLIOTECA PUBLICA MUNICIPAL AURELIANO LEITE\n",
      "BIBLIOTECA PUBLICA MUNICIPAL BELMONTE\n",
      "BIBLIOTECA PUBLICA MUNICIPAL BRITO BROCA\n",
      "BIBLIOTECA PUBLICA MUNICIPAL CAMILA CERQUEIRA CESA\n",
      "BIBLIOTECA PUBLICA MUNICIPAL CASSIANO RICARDO\n",
      "BIBLIOTECA PUBLICA MUNICIPAL CASTRO ALVES\n",
      "BIBLIOTECA PUBLICA MUNICIPAL CHACARA DO CASTELO\n",
      "BIBLIOTECA PUBLICA MUNICIPAL CLARICE LISPECTOR\n",
      "BIBLIOTECA PUBLICA MUNICIPAL CORA CORALINA\n",
      "BIBLIOTECA PUBLICA MUNICIPAL ERICO VERISSIMO\n",
      "BIBLIOTECA PUBLICA MUNICIPAL GILBERTO FREYRE\n",
      "BIBLIOTECA PUBLICA MUNICIPAL HANS CHRISTIAN ANDER\n",
      "BIBLIOTECA PUBLICA MUNICIPAL HELENA SILVEIRA\n",
      "BIBLIOTECA PUBLICA MUNICIPAL JAMIL ALMANSUR HADDA\n",
      "BIBLIOTECA PUBLICA MUNICIPAL JAYME CORTEZ\n",
      "BIBLIOTECA PUBLICA MUNICIPAL JOSE MAURO DE VASCON\n",
      "BIBLIOTECA PUBLICA MUNICIPAL JOSE PAULO PAES\n",
      "BIBLIOTECA PUBLICA MUNICIPAL JOVINA ROCHA ALVARES\n",
      "BIBLIOTECA PUBLICA MUNICIPAL LENYRA FRACCAROLI\n",
      "BIBLIOTECA PUBLICA MUNICIPAL MALBA TAHAN\n",
      "BIBLIOTECA PUBLICA MUNICIPAL MARCOS REY\n",
      "BIBLIOTECA PUBLICA MUNICIPAL MARIO SCHENBERG\n",
      "BIBLIOTECA PUBLICA MUNICIPAL MENOTTI DEL PICCHIA\n",
      "BIBLIOTECA PUBLICA MUNICIPAL MILTON SANTOS\n",
      "BIBLIOTECA PUBLICA MUNICIPAL MONTEIRO LOBATO\n",
      "BIBLIOTECA PUBLICA MUNICIPAL NARBAL FONTES\n",
      "BIBLIOTECA PUBLICA MUNICIPAL NUTO SANT'ANNA\n",
      "BIBLIOTECA PUBLICA MUNICIPAL PAULO DUARTE\n",
      "BIBLIOTECA PUBLICA MUNICIPAL PAULO SERGIO DUARTE M\n",
      "BIBLIOTECA PUBLICA MUNICIPAL PAULO SETUBAL\n",
      "BIBLIOTECA PUBLICA MUNICIPAL PE. JOSE DE ANCHIETA\n",
      "BIBLIOTECA PUBLICA MUNICIPAL PEDRO NAVA\n",
      "BIBLIOTECA PUBLICA MUNICIPAL PREFEITO PRESTES MAI\n",
      "BIBLIOTECA PUBLICA MUNICIPAL PROF ARNALDO MAGALHAE\n",
      "BIBLIOTECA PUBLICA MUNICIPAL RAIMUNDO DE MENEZES\n",
      "BIBLIOTECA PUBLICA MUNICIPAL RAUL BOPP\n",
      "BIBLIOTECA PUBLICA MUNICIPAL RICARDO RAMOS\n",
      "BIBLIOTECA PUBLICA MUNICIPAL ROBERTO SANTOS\n",
      "BIBLIOTECA PUBLICA MUNICIPAL RUBENS BORBA ALVES DE\n",
      "BIBLIOTECA PUBLICA MUNICIPAL SERGIO BUARQUE DE HOL\n",
      "BIBLIOTECA PUBLICA MUNICIPAL SYLVIA ORTHOF\n",
      "BIBLIOTECA PUBLICA MUNICIPAL THALES CASTANHO DE AN\n",
      "BIBLIOTECA PUBLICA MUNICIPAL VICENTE DE CARVALHO\n",
      "BIBLIOTECA PUBLICA MUNICIPAL VICENTE PAULO GUIMARA\n",
      "BIBLIOTECA PUBLICA MUNICIPAL VINICIUS DE MORAES\n",
      "BIBLIOTECA PUBLICA MUNICIPAL VIRIATO CORREA\n",
      "                                                SETOR  COUNT\n",
      "0                           SUPERVISAO DE BIBLIOTECAS     36\n",
      "1     COORDENACAO DO SISTEMA MUNICIPAL DE BIBLIOTECAS     14\n",
      "2        BIBLIOTECA PUBLICA MUNICIPAL MONTEIRO LOBATO     12\n",
      "3        BIBLIOTECA PUBLICA MUNICIPAL AFONSO SCHIMIDT     11\n",
      "4    BIBLIOTECA PUBLICA MUNICIPAL RAIMUNDO DE MENEZES      9\n",
      "5   BIBLIOTECA PUBLICA MUNICIPAL JOVINA ROCHA ALVARES      8\n",
      "6   BIBLIOTECA PUBLICA MUNICIPAL PE. JOSE DE ANCHIETA      8\n",
      "7          BIBLIOTECA PUBLICA MUNICIPAL RICARDO RAMOS      8\n",
      "8     BIBLIOTECA PUBLICA MUNICIPAL ALVARES DE AZEVEDO      8\n",
      "9     BIBLIOTECA PUBLICA MUNICIPAL VINICIUS DE MORAES      8\n",
      "10         BIBLIOTECA PUBLICA MUNICIPAL CORA CORALINA      7\n",
      "11  BIBLIOTECA PUBLICA MUNICIPAL HANS CHRISTIAN ANDER      7\n",
      "17   BIBLIOTECA PUBLICA MUNICIPAL MENOTTI DEL PICCHIA      6\n",
      "20   BIBLIOTECA PUBLICA MUNICIPAL VICENTE DE CARVALHO      6\n",
      "19        BIBLIOTECA PUBLICA MUNICIPAL ROBERTO SANTOS      6\n",
      "18  BIBLIOTECA PUBLICA MUNICIPAL PREFEITO PRESTES MAI      6\n",
      "14  BIBLIOTECA PUBLICA MUNICIPAL JOSE MAURO DE VASCON      6\n",
      "16        BIBLIOTECA PUBLICA MUNICIPAL VIRIATO CORREA      6\n",
      "15  BIBLIOTECA PUBLICA MUNICIPAL JAMIL ALMANSUR HADDA      6\n",
      "13     BIBLIOTECA PUBLICA MUNICIPAL LENYRA FRACCAROLI      6\n",
      "12            BIBLIOTECA PUBLICA MUNICIPAL ANNE FRANK      6\n",
      "37       BIBLIOTECA PUBLICA MUNICIPAL MARIO SCHENBERG      5\n",
      "36          BIBLIOTECA PUBLICA MUNICIPAL CASTRO ALVES      5\n",
      "35           BIBLIOTECA PUBLICA MUNICIPAL MALBA TAHAN      5\n",
      "34  BIBLIOTECA PUBLICA MUNICIPAL CAMILA CERQUEIRA ...      5\n",
      "33           BIBLIOTECA PUBLICA MUNICIPAL BRITO BROCA      5\n",
      "32       BIBLIOTECA PUBLICA MUNICIPAL AURELIANO LEITE      5\n",
      "31    BIBLIOTECA PUBLICA MUNICIPAL ALCEU AMOROSO LIMA      5\n",
      "30       BIBLIOTECA PUBLICA MUNICIPAL HELENA SILVEIRA      5\n",
      "29            BIBLIOTECA PUBLICA MUNICIPAL MARCOS REY      5\n",
      "28       BIBLIOTECA PUBLICA MUNICIPAL ERICO VERISSIMO      5\n",
      "26                    NUCLEO DE BIBLIOTECAS ESPECIAIS      5\n",
      "25  BIBLIOTECA PUBLICA MUNICIPAL SERGIO BUARQUE DE...      5\n",
      "24  BIBLIOTECA PUBLICA MUNICIPAL RUBENS BORBA ALVE...      5\n",
      "23  BIBLIOTECA PUBLICA MUNICIPAL PAULO SERGIO DUAR...      5\n",
      "22    BIBLIOTECA PUBLICA MUNICIPAL ADELPHA FIGUEIREDO      5\n",
      "21  BIBLIOTECA PUBLICA MUNICIPAL VICENTE PAULO GUI...      5\n",
      "27            BIBLIOTECA PUBLICA MUNICIPAL PEDRO NAVA      5\n",
      "42              BIBLIOTECA PUBLICA MUNICIPAL BELMONTE      4\n",
      "45         BIBLIOTECA PUBLICA MUNICIPAL NARBAL FONTES      4\n",
      "43  BIBLIOTECA PUBLICA MUNICIPAL THALES CASTANHO D...      4\n",
      "44        BIBLIOTECA PUBLICA MUNICIPAL NUTO SANT'ANNA      4\n",
      "41       BIBLIOTECA PUBLICA MUNICIPAL JOSE PAULO PAES      4\n",
      "39     BIBLIOTECA PUBLICA MUNICIPAL CLARICE LISPECTOR      4\n",
      "38        BIBLIOTECA PUBLICA MUNICIPAL AFFONSO TAUNAY      4\n",
      "40         BIBLIOTECA PUBLICA MUNICIPAL MILTON SANTOS      4\n",
      "49      BIBLIOTECA PUBLICA MUNICIPAL CASSIANO RICARDO      3\n",
      "52         BIBLIOTECA PUBLICA MUNICIPAL SYLVIA ORTHOF      3\n",
      "51  BIBLIOTECA PUBLICA MUNICIPAL PROF ARNALDO MAGA...      3\n",
      "50             BIBLIOTECA PUBLICA MUNICIPAL RAUL BOPP      3\n",
      "48         BIBLIOTECA PUBLICA MUNICIPAL PAULO SETUBAL      3\n",
      "47         BIBLIOTECA PUBLICA MUNICIPAL AMADEU AMARAL      3\n",
      "46          BIBLIOTECA PUBLICA MUNICIPAL JAYME CORTEZ      3\n",
      "53          BIBLIOTECA PUBLICA MUNICIPAL PAULO DUARTE      2\n",
      "54    BIBLIOTECA PUBLICA MUNICIPAL CHACARA DO CASTELO      2\n",
      "55         BIBLIOTECA PUBLICA MUNICIPAL ALVARO GUERRA      2\n",
      "56       BIBLIOTECA PUBLICA MUNICIPAL GILBERTO FREYRE      2\n",
      "57  NUCLEO REGIONAL DE BIBLIOTECAS CENTRO, NORTE E...      2\n",
      "58         NUCLEO REGIONAL DE BIBLIOTECAS LESTE E SUL      1\n"
     ]
    }
   ],
   "source": [
    "\n",
    "##Identificar os valores distinros da coluna 'SETOR'\n",
    "setores_dist = df_clean['SETOR'].unique()\n",
    "\n",
    "##Identidicar dentre esses valores, QUANTOS começam com a palavra BIBLIOTECA\n",
    "bibliotecas = [setor for setor in setores_dist if setor.startswith('BIBLIOTECA')]\n",
    "##Ordenar a lista de bibliotecas em ordem alfabética\n",
    "bibliotecas.sort()\n",
    "\n",
    "##Remover as linhas cuja variável 'SETOR' é BIBLIOTECA MUNICIPAL MARIO DE ANDRADE , BIBLIOTECA PUBLICA MUNICIPAL LOUIS BRAILLE E BIBLIOTECA PUBLICA MUNICIPAL SERGIO MILLIET\n",
    "# df_clean = df_clean[df_clean['SETOR'] != 'BIBLIOTECA MUNICIPAL MARIO DE ANDRADE']\n",
    "# df_clean = df_clean[df_clean['SETOR'] != 'BIBLIOTECA PUBLICA MUNICIPAL LOUIS BRAILLE']\n",
    "# df_clean = df_clean[df_clean['SETOR'] != 'BIBLIOTECA PUBLICA MUNICIPAL SERGIO MILLIET']\n",
    "\n",
    "\n",
    "print(f'Quantidade de setores que começam com a palavra BIBLIOTECA: {len(bibliotecas)}')\n",
    "\n",
    "for item in bibliotecas:\n",
    "    print(item)\n",
    "\n",
    "##Contar quantas vezes cada valor da coluna 'SETOR' aparece no DataFrame, e criar uma lista de tuplas, onde cada tupla contém o valor da coluna 'SETOR' e a quantidade de vezes que ele aparece no DataFrame\n",
    "setores_count = df_clean['SETOR'].value_counts()\n",
    "setores_count = setores_count.reset_index()\n",
    "setores_count.columns = ['SETOR', 'COUNT']\n",
    "setores_count = setores_count.sort_values(by='COUNT', ascending=False)\n",
    "print(setores_count)\n"
   ]
  },
  {
   "cell_type": "code",
   "execution_count": 41,
   "metadata": {},
   "outputs": [
    {
     "name": "stdout",
     "output_type": "stream",
     "text": [
      "Quantidade de servidores do sexo masculino que completarão 65 anos em 2024: 27\n",
      "Quantidade de servidores do sexo feminino que completarão 62 anos em 2024: 51\n"
     ]
    }
   ],
   "source": [
    "## Contar a quantidade de observações cujo valor na coluna 'SEXO' É 'MASCULINO' e o valor na coluna 'ANO_NASCIMENTO' é menor ou igual a 1959\n",
    "masc_1959 = df_clean[(df_clean['SEXO'] == 'M') & (df_clean['ANO_NASCIMENTO'] <= 1959)].shape[0]\n",
    "print(f'Quantidade de servidores do sexo masculino que completarão 65 anos em 2024: {masc_1959}')\n",
    "fem_1959 = df_clean[(df_clean['SEXO'] == 'F') & (df_clean['ANO_NASCIMENTO'] <= 1962)].shape[0]\n",
    "print(f'Quantidade de servidores do sexo feminino que completarão 62 anos em 2024: {fem_1959}')\n"
   ]
  },
  {
   "cell_type": "code",
   "execution_count": 45,
   "metadata": {},
   "outputs": [
    {
     "name": "stdout",
     "output_type": "stream",
     "text": [
      "<class 'pandas.core.frame.DataFrame'>\n",
      "Index: 339 entries, 0 to 348\n",
      "Data columns (total 9 columns):\n",
      " #   Column              Non-Null Count  Dtype \n",
      "---  ------              --------------  ----- \n",
      " 0   CARGO_BASICO        339 non-null    object\n",
      " 1   SUBGRUPO            339 non-null    object\n",
      " 2   ESCOL_CARGO_BASICO  339 non-null    object\n",
      " 3   CARGO_COMISSAO      68 non-null     object\n",
      " 4   DATA_INICIO_EXERC   339 non-null    object\n",
      " 5   REL_JUR_ADM         339 non-null    object\n",
      " 6   SETOR               339 non-null    object\n",
      " 7   SEXO                339 non-null    object\n",
      " 8   ANO_NASCIMENTO      339 non-null    int64 \n",
      "dtypes: int64(1), object(8)\n",
      "memory usage: 26.5+ KB\n"
     ]
    }
   ],
   "source": [
    "df_clean.info()"
   ]
  },
  {
   "cell_type": "code",
   "execution_count": 70,
   "metadata": {},
   "outputs": [
    {
     "name": "stdout",
     "output_type": "stream",
     "text": [
      "Index: 102, Date: NaT\n"
     ]
    }
   ],
   "source": [
    "\n",
    "df_clean['DATA_INICIO_EXERC'] = pd.to_datetime(df_clean['DATA_INICIO_EXERC'], dayfirst=True, errors='coerce')\n",
    "\n",
    "# Verificar se alguma data não pôde ser convertida\n",
    "invalid_dates = df_clean[df_clean['DATA_INICIO_EXERC'].isna()]\n",
    "# print(invalid_dates)\n",
    "\n",
    "for index, row in invalid_dates.iterrows():\n",
    "    print(f\"Index: {index}, Date: {row['DATA_INICIO_EXERC']}\")\n",
    "\n",
    "# Exibir entradas inválidas para inspeção\n",
    "# print(\"Entradas inválidas:\", invalid_dates)\n",
    "\n",
    "##Printar a linha 102\n",
    "# print(df_clean.iloc[102])\n",
    "\n",
    "##Contar quantos servidores ingressaram antes de 18/03/2022, considerando que os valores estão no formato 'DD/MM/YYYY' ou 'D/M/YYYY'\n",
    "# df_clean['DATA_INICIO_EXERC'] = pd.to_datetime(df_clean['DATA_INICIO_EXERC'], dayfirst=True)  \n",
    "\n",
    "# entrou_antes_de_18_03_2022 = df_clean[df_clean[' DATA_INICIO_EXERC'] < '2022-03-18'].shape[0]\n",
    "# print(f'Quantidade de servidores que ingressaram antes de 18/03/2022: {entrou_antes_de_18_03_2022}')"
   ]
  },
  {
   "cell_type": "code",
   "execution_count": null,
   "metadata": {},
   "outputs": [],
   "source": []
  }
 ],
 "metadata": {
  "kernelspec": {
   "display_name": "Python 3",
   "language": "python",
   "name": "python3"
  },
  "language_info": {
   "codemirror_mode": {
    "name": "ipython",
    "version": 3
   },
   "file_extension": ".py",
   "mimetype": "text/x-python",
   "name": "python",
   "nbconvert_exporter": "python",
   "pygments_lexer": "ipython3",
   "version": "3.10.6"
  }
 },
 "nbformat": 4,
 "nbformat_minor": 2
}
