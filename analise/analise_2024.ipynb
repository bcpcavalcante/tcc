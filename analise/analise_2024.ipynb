{
 "cells": [
  {
   "cell_type": "code",
   "execution_count": 25,
   "metadata": {},
   "outputs": [],
   "source": [
    "## Importar as bibliotecas\n",
    "import pandas as pd"
   ]
  },
  {
   "cell_type": "code",
   "execution_count": 26,
   "metadata": {},
   "outputs": [
    {
     "name": "stderr",
     "output_type": "stream",
     "text": [
      "C:\\Users\\freda\\AppData\\Local\\Temp\\ipykernel_15168\\3146870232.py:2: DtypeWarning: Columns (0,1,19) have mixed types. Specify dtype option on import or set low_memory=False.\n",
      "  df = pd.read_csv(r'c:\\Repos\\tcc-bruna\\fonte.csv')\n"
     ]
    }
   ],
   "source": [
    "## Carregar o arquivo csv\n",
    "df = pd.read_csv(r'c:\\Repos\\tcc-bruna\\fonte.csv')"
   ]
  },
  {
   "cell_type": "code",
   "execution_count": 27,
   "metadata": {},
   "outputs": [
    {
     "name": "stdout",
     "output_type": "stream",
     "text": [
      "<class 'pandas.core.frame.DataFrame'>\n",
      "RangeIndex: 130778 entries, 0 to 130777\n",
      "Data columns (total 22 columns):\n",
      " #   Column                Non-Null Count   Dtype \n",
      "---  ------                --------------   ----- \n",
      " 0   REGISTRO              130778 non-null  object\n",
      " 1   VINCULO               130778 non-null  object\n",
      " 2   NOME                  130778 non-null  object\n",
      " 3   CARGO_BASICO          130753 non-null  object\n",
      " 4   REF_CARGO_BAS         130753 non-null  object\n",
      " 5   SEGMENTO              44666 non-null   object\n",
      " 6   GRUPO                 130778 non-null  object\n",
      " 7   SUBGRUPO              130778 non-null  object\n",
      " 8   ESCOL_CARGO_BASICO    130778 non-null  object\n",
      " 9   CARGO_COMISSAO        7327 non-null    object\n",
      " 10  REF_CARGO_COM         7327 non-null    object\n",
      " 11  ESCOL_CARGO_COMISSAO  7327 non-null    object\n",
      " 12  JORNADA               130778 non-null  object\n",
      " 13  DATA_INICIO_EXERC     130778 non-null  object\n",
      " 14  REL_JUR_ADM           130778 non-null  object\n",
      " 15  SECRET_SUBPREF        130776 non-null  object\n",
      " 16  SETOR                 130776 non-null  object\n",
      " 17  ORGAO_EXT             1242 non-null    object\n",
      " 18  SEXO                  130778 non-null  object\n",
      " 19  ANO_NASCIMENTO        130778 non-null  object\n",
      " 20  RACA                  130776 non-null  object\n",
      " 21  DEFICIENTE            130776 non-null  object\n",
      "dtypes: object(22)\n",
      "memory usage: 22.0+ MB\n"
     ]
    },
    {
     "data": {
      "text/plain": [
       "Index(['REGISTRO', 'VINCULO', 'NOME', 'CARGO_BASICO', 'REF_CARGO_BAS',\n",
       "       'SEGMENTO', 'GRUPO', 'SUBGRUPO', 'ESCOL_CARGO_BASICO', 'CARGO_COMISSAO',\n",
       "       'REF_CARGO_COM', 'ESCOL_CARGO_COMISSAO', 'JORNADA', 'DATA_INICIO_EXERC',\n",
       "       'REL_JUR_ADM', 'SECRET_SUBPREF', 'SETOR', 'ORGAO_EXT', 'SEXO',\n",
       "       'ANO_NASCIMENTO', 'RACA', 'DEFICIENTE'],\n",
       "      dtype='object')"
      ]
     },
     "execution_count": 27,
     "metadata": {},
     "output_type": "execute_result"
    }
   ],
   "source": [
    "## Verificar o formato dos dados\n",
    "df.info()\n",
    "df.head()\n",
    "df.describe()\n",
    "df.columns\n",
    "\n"
   ]
  },
  {
   "cell_type": "code",
   "execution_count": 28,
   "metadata": {},
   "outputs": [],
   "source": [
    "## Verificar a quantidade de valores nulos\n",
    "df.isnull().sum()\n",
    "## Remover as linhas que possuem valor nulo na coluna 'SETOR'\n",
    "df = df.dropna(subset=['SETOR'])"
   ]
  },
  {
   "cell_type": "code",
   "execution_count": 29,
   "metadata": {},
   "outputs": [],
   "source": [
    "## Selecionar as linhas que utilizaremos na análise\n",
    "## Vamos remover todas as observações que não possuem a substring ''BIBLIOTECA'' na coluna 'SETOR'\n",
    "df_bibliotecas = df[df['SETOR'].str.contains('BIBLIOTECA')]"
   ]
  },
  {
   "cell_type": "code",
   "execution_count": 30,
   "metadata": {},
   "outputs": [
    {
     "name": "stdout",
     "output_type": "stream",
     "text": [
      "<class 'pandas.core.frame.DataFrame'>\n",
      "Index: 354 entries, 115 to 127354\n",
      "Data columns (total 22 columns):\n",
      " #   Column                Non-Null Count  Dtype \n",
      "---  ------                --------------  ----- \n",
      " 0   REGISTRO              354 non-null    object\n",
      " 1   VINCULO               354 non-null    object\n",
      " 2   NOME                  354 non-null    object\n",
      " 3   CARGO_BASICO          354 non-null    object\n",
      " 4   REF_CARGO_BAS         354 non-null    object\n",
      " 5   SEGMENTO              116 non-null    object\n",
      " 6   GRUPO                 354 non-null    object\n",
      " 7   SUBGRUPO              354 non-null    object\n",
      " 8   ESCOL_CARGO_BASICO    354 non-null    object\n",
      " 9   CARGO_COMISSAO        69 non-null     object\n",
      " 10  REF_CARGO_COM         69 non-null     object\n",
      " 11  ESCOL_CARGO_COMISSAO  69 non-null     object\n",
      " 12  JORNADA               354 non-null    object\n",
      " 13  DATA_INICIO_EXERC     354 non-null    object\n",
      " 14  REL_JUR_ADM           354 non-null    object\n",
      " 15  SECRET_SUBPREF        354 non-null    object\n",
      " 16  SETOR                 354 non-null    object\n",
      " 17  ORGAO_EXT             5 non-null      object\n",
      " 18  SEXO                  354 non-null    object\n",
      " 19  ANO_NASCIMENTO        354 non-null    object\n",
      " 20  RACA                  354 non-null    object\n",
      " 21  DEFICIENTE            354 non-null    object\n",
      "dtypes: object(22)\n",
      "memory usage: 63.6+ KB\n"
     ]
    },
    {
     "data": {
      "text/plain": [
       "Index(['REGISTRO', 'VINCULO', 'NOME', 'CARGO_BASICO', 'REF_CARGO_BAS',\n",
       "       'SEGMENTO', 'GRUPO', 'SUBGRUPO', 'ESCOL_CARGO_BASICO', 'CARGO_COMISSAO',\n",
       "       'REF_CARGO_COM', 'ESCOL_CARGO_COMISSAO', 'JORNADA', 'DATA_INICIO_EXERC',\n",
       "       'REL_JUR_ADM', 'SECRET_SUBPREF', 'SETOR', 'ORGAO_EXT', 'SEXO',\n",
       "       'ANO_NASCIMENTO', 'RACA', 'DEFICIENTE'],\n",
       "      dtype='object')"
      ]
     },
     "execution_count": 30,
     "metadata": {},
     "output_type": "execute_result"
    }
   ],
   "source": [
    "## Verificar o formato dos dados resultantes\n",
    "df_bibliotecas.info()\n",
    "df_bibliotecas.head()\n",
    "df_bibliotecas.describe()\n",
    "df_bibliotecas.columns\n"
   ]
  },
  {
   "cell_type": "code",
   "execution_count": 31,
   "metadata": {},
   "outputs": [],
   "source": [
    "##Identificar os valores distintos da coluna 'SETOR'\n",
    "df_bibliotecas['SETOR'].unique()\n",
    "\n",
    "##Ordenar a lista de bibliotecas em ordem alfabética\n",
    "df_bibliotecas = df_bibliotecas.sort_values(by='SETOR')\n",
    "\n",
    "##Remover as linhas cuja variável 'SETOR' é BIBLIOTECA MUNICIPAL MARIO DE ANDRADE , BIBLIOTECA PUBLICA MUNICIPAL LOUIS BRAILLE, BIBLIOTECA PUBLICA MUNICIPAL SERGIO MILLIET, BIBLIOTECA JOAO CABRAL DE MELO NETO (CEU), BIBLIOTECA JORNALISTA ROBERTO MARINHO (CEU) e BIBLIOTECA RACHEL DE QUEIROZ (CEU)\n",
    "df_bibliotecas = df_bibliotecas[~df_bibliotecas['SETOR'].str.contains('BIBLIOTECA MUNICIPAL MARIO DE ANDRADE')]\n",
    "df_bibliotecas = df_bibliotecas[~df_bibliotecas['SETOR'].str.contains('BIBLIOTECA PUBLICA MUNICIPAL LOUIS BRAILLE')]\n",
    "df_bibliotecas = df_bibliotecas[~df_bibliotecas['SETOR'].str.contains('BIBLIOTECA PUBLICA MUNICIPAL SERGIO MILLIET')]\n",
    "df_bibliotecas = df_bibliotecas[~df_bibliotecas['SETOR'].str.contains('BIBLIOTECA JOAO CABRAL DE MELO NETO')]\n",
    "df_bibliotecas = df_bibliotecas[~df_bibliotecas['SETOR'].str.contains('BIBLIOTECA JORNALISTA ROBERTO MARINHO')]\n",
    "df_bibliotecas = df_bibliotecas[~df_bibliotecas['SETOR'].str.contains('BIBLIOTECA RACHEL DE QUEIROZ')]\n",
    "\n"
   ]
  },
  {
   "cell_type": "code",
   "execution_count": 32,
   "metadata": {},
   "outputs": [
    {
     "name": "stdout",
     "output_type": "stream",
     "text": [
      "                                                SETOR  QUANTIDADE\n",
      "0                           SUPERVISAO DE BIBLIOTECAS          36\n",
      "1     COORDENACAO DO SISTEMA MUNICIPAL DE BIBLIOTECAS          14\n",
      "2        BIBLIOTECA PUBLICA MUNICIPAL MONTEIRO LOBATO          12\n",
      "3        BIBLIOTECA PUBLICA MUNICIPAL AFONSO SCHIMIDT          11\n",
      "4    BIBLIOTECA PUBLICA MUNICIPAL RAIMUNDO DE MENEZES           9\n",
      "5     BIBLIOTECA PUBLICA MUNICIPAL VINICIUS DE MORAES           8\n",
      "6   BIBLIOTECA PUBLICA MUNICIPAL JOVINA ROCHA ALVARES           8\n",
      "7   BIBLIOTECA PUBLICA MUNICIPAL PE. JOSE DE ANCHIETA           8\n",
      "8          BIBLIOTECA PUBLICA MUNICIPAL RICARDO RAMOS           8\n",
      "9     BIBLIOTECA PUBLICA MUNICIPAL ALVARES DE AZEVEDO           8\n",
      "10         BIBLIOTECA PUBLICA MUNICIPAL CORA CORALINA           7\n",
      "11  BIBLIOTECA PUBLICA MUNICIPAL HANS CHRISTIAN ANDER           7\n",
      "17  BIBLIOTECA PUBLICA MUNICIPAL PREFEITO PRESTES MAI           6\n",
      "20  BIBLIOTECA PUBLICA MUNICIPAL JAMIL ALMANSUR HADDA           6\n",
      "19        BIBLIOTECA PUBLICA MUNICIPAL VIRIATO CORREA           6\n",
      "18   BIBLIOTECA PUBLICA MUNICIPAL VICENTE DE CARVALHO           6\n",
      "14     BIBLIOTECA PUBLICA MUNICIPAL LENYRA FRACCAROLI           6\n",
      "16            BIBLIOTECA PUBLICA MUNICIPAL ANNE FRANK           6\n",
      "15        BIBLIOTECA PUBLICA MUNICIPAL ROBERTO SANTOS           6\n",
      "13  BIBLIOTECA PUBLICA MUNICIPAL JOSE MAURO DE VASCON           6\n",
      "12   BIBLIOTECA PUBLICA MUNICIPAL MENOTTI DEL PICCHIA           6\n",
      "37       BIBLIOTECA PUBLICA MUNICIPAL ERICO VERISSIMO           5\n",
      "36           BIBLIOTECA PUBLICA MUNICIPAL MALBA TAHAN           5\n",
      "35       BIBLIOTECA PUBLICA MUNICIPAL HELENA SILVEIRA           5\n",
      "34          BIBLIOTECA PUBLICA MUNICIPAL CASTRO ALVES           5\n",
      "33  BIBLIOTECA PUBLICA MUNICIPAL CAMILA CERQUEIRA ...           5\n",
      "32           BIBLIOTECA PUBLICA MUNICIPAL BRITO BROCA           5\n",
      "31       BIBLIOTECA PUBLICA MUNICIPAL AURELIANO LEITE           5\n",
      "30    BIBLIOTECA PUBLICA MUNICIPAL ALCEU AMOROSO LIMA           5\n",
      "29       BIBLIOTECA PUBLICA MUNICIPAL MARIO SCHENBERG           5\n",
      "28    BIBLIOTECA PUBLICA MUNICIPAL ADELPHA FIGUEIREDO           5\n",
      "26  BIBLIOTECA PUBLICA MUNICIPAL SERGIO BUARQUE DE...           5\n",
      "25  BIBLIOTECA PUBLICA MUNICIPAL RUBENS BORBA ALVE...           5\n",
      "24            BIBLIOTECA PUBLICA MUNICIPAL MARCOS REY           5\n",
      "23  BIBLIOTECA PUBLICA MUNICIPAL PAULO SERGIO DUAR...           5\n",
      "22  BIBLIOTECA PUBLICA MUNICIPAL VICENTE PAULO GUI...           5\n",
      "21                    NUCLEO DE BIBLIOTECAS ESPECIAIS           5\n",
      "27            BIBLIOTECA PUBLICA MUNICIPAL PEDRO NAVA           5\n",
      "42        BIBLIOTECA PUBLICA MUNICIPAL NUTO SANT'ANNA           4\n",
      "45         BIBLIOTECA PUBLICA MUNICIPAL NARBAL FONTES           4\n",
      "43         BIBLIOTECA PUBLICA MUNICIPAL MILTON SANTOS           4\n",
      "44       BIBLIOTECA PUBLICA MUNICIPAL JOSE PAULO PAES           4\n",
      "41        BIBLIOTECA PUBLICA MUNICIPAL AFFONSO TAUNAY           4\n",
      "39              BIBLIOTECA PUBLICA MUNICIPAL BELMONTE           4\n",
      "38     BIBLIOTECA PUBLICA MUNICIPAL CLARICE LISPECTOR           4\n",
      "40  BIBLIOTECA PUBLICA MUNICIPAL THALES CASTANHO D...           4\n",
      "49         BIBLIOTECA PUBLICA MUNICIPAL SYLVIA ORTHOF           3\n",
      "52         BIBLIOTECA PUBLICA MUNICIPAL PAULO SETUBAL           3\n",
      "51      BIBLIOTECA PUBLICA MUNICIPAL CASSIANO RICARDO           3\n",
      "50          BIBLIOTECA PUBLICA MUNICIPAL JAYME CORTEZ           3\n",
      "48  BIBLIOTECA PUBLICA MUNICIPAL PROF ARNALDO MAGA...           3\n",
      "47         BIBLIOTECA PUBLICA MUNICIPAL AMADEU AMARAL           3\n",
      "46             BIBLIOTECA PUBLICA MUNICIPAL RAUL BOPP           3\n",
      "53          BIBLIOTECA PUBLICA MUNICIPAL PAULO DUARTE           2\n",
      "54         BIBLIOTECA PUBLICA MUNICIPAL ALVARO GUERRA           2\n",
      "55       BIBLIOTECA PUBLICA MUNICIPAL GILBERTO FREYRE           2\n",
      "56  NUCLEO REGIONAL DE BIBLIOTECAS CENTRO, NORTE E...           2\n",
      "57    BIBLIOTECA PUBLICA MUNICIPAL CHACARA DO CASTELO           2\n",
      "58         NUCLEO REGIONAL DE BIBLIOTECAS LESTE E SUL           1\n"
     ]
    }
   ],
   "source": [
    "##Mostar a lista de bibliotecas distinta\n",
    "df_bibliotecas['SETOR'].unique()\n",
    "\n",
    "##Mostrar as informações dos setores\n",
    "setores_contagem = df_bibliotecas['SETOR'].value_counts()\n",
    "setores_contagem = setores_contagem.reset_index()\n",
    "setores_contagem.columns = ['SETOR', 'QUANTIDADE']\n",
    "setores_contagem = setores_contagem.sort_values(by='QUANTIDADE', ascending=False)\n",
    "print(setores_contagem)\n",
    "\n"
   ]
  },
  {
   "cell_type": "code",
   "execution_count": 33,
   "metadata": {},
   "outputs": [],
   "source": [
    "##Removendo as colunas que não serão utilizadas\n",
    "bibliotecas = df_bibliotecas.drop(columns=['VINCULO', 'REF_CARGO_BAS', 'GRUPO', 'REF_CARGO_COM', 'ESCOL_CARGO_COMISSAO', 'JORNADA', 'ORGAO_EXT', 'RACA', 'DEFICIENTE'])"
   ]
  },
  {
   "cell_type": "code",
   "execution_count": 34,
   "metadata": {},
   "outputs": [
    {
     "name": "stdout",
     "output_type": "stream",
     "text": [
      "<class 'pandas.core.frame.DataFrame'>\n",
      "Index: 339 entries, 57516 to 127354\n",
      "Data columns (total 13 columns):\n",
      " #   Column              Non-Null Count  Dtype \n",
      "---  ------              --------------  ----- \n",
      " 0   REGISTRO            339 non-null    object\n",
      " 1   NOME                339 non-null    object\n",
      " 2   CARGO_BASICO        339 non-null    object\n",
      " 3   SEGMENTO            107 non-null    object\n",
      " 4   SUBGRUPO            339 non-null    object\n",
      " 5   ESCOL_CARGO_BASICO  339 non-null    object\n",
      " 6   CARGO_COMISSAO      68 non-null     object\n",
      " 7   DATA_INICIO_EXERC   339 non-null    object\n",
      " 8   REL_JUR_ADM         339 non-null    object\n",
      " 9   SECRET_SUBPREF      339 non-null    object\n",
      " 10  SETOR               339 non-null    object\n",
      " 11  SEXO                339 non-null    object\n",
      " 12  ANO_NASCIMENTO      339 non-null    object\n",
      "dtypes: object(13)\n",
      "memory usage: 37.1+ KB\n"
     ]
    }
   ],
   "source": [
    "##Info da base de dados limpa\n",
    "bibliotecas.info()"
   ]
  },
  {
   "cell_type": "code",
   "execution_count": 35,
   "metadata": {},
   "outputs": [
    {
     "name": "stdout",
     "output_type": "stream",
     "text": [
      "Quantidade de servidores do sexo masculino que completarão 65 anos em 2024: 27\n",
      "Quantidade de servidores do sexo feminino que completarão 62 anos em 2024: 51\n"
     ]
    }
   ],
   "source": [
    "## Transformando a coluna ANO_NASCIMENTO em inteiro\n",
    "bibliotecas['ANO_NASCIMENTO'] = bibliotecas['ANO_NASCIMENTO'].astype(int)\n",
    "\n",
    "## Contar a quantidade de observações cujo valor na coluna 'SEXO' É 'MASCULINO' e o valor na coluna 'ANO_NASCIMENTO' é menor ou igual a 1959\n",
    "masc_1959 = bibliotecas[(bibliotecas['SEXO'] == 'M') & (bibliotecas['ANO_NASCIMENTO'] <= 1959)].shape[0]\n",
    "print(f'Quantidade de servidores do sexo masculino que completarão 65 anos em 2024: {masc_1959}')\n",
    "fem_1959 = bibliotecas[(bibliotecas['SEXO'] == 'F') & (bibliotecas['ANO_NASCIMENTO'] <= 1962)].shape[0]\n",
    "print(f'Quantidade de servidores do sexo feminino que completarão 62 anos em 2024: {fem_1959}')"
   ]
  },
  {
   "cell_type": "code",
   "execution_count": 36,
   "metadata": {},
   "outputs": [
    {
     "name": "stdout",
     "output_type": "stream",
     "text": [
      "Empty DataFrame\n",
      "Columns: [REGISTRO, NOME, CARGO_BASICO, SEGMENTO, SUBGRUPO, ESCOL_CARGO_BASICO, CARGO_COMISSAO, DATA_INICIO_EXERC, REL_JUR_ADM, SECRET_SUBPREF, SETOR, SEXO, ANO_NASCIMENTO]\n",
      "Index: []\n"
     ]
    }
   ],
   "source": [
    "## Transformar os valores da coluna data de admissão em datetime\n",
    "bibliotecas['DATA_INICIO_EXERC'] = pd.to_datetime(bibliotecas['DATA_INICIO_EXERC'])\n",
    "\n",
    "# Verificar se alguma data não pôde ser convertida\n",
    "invalid_dates = bibliotecas[bibliotecas['DATA_INICIO_EXERC'].isna()]\n",
    "print(invalid_dates)"
   ]
  },
  {
   "cell_type": "code",
   "execution_count": 37,
   "metadata": {},
   "outputs": [
    {
     "name": "stdout",
     "output_type": "stream",
     "text": [
      "Quantidade de servidores que ingressaram antes de 18/03/2022: 254\n"
     ]
    }
   ],
   "source": [
    "##Contar quantos servidores ingressaram antes de 18/03/2022\n",
    "antes_2022 = bibliotecas[bibliotecas['DATA_INICIO_EXERC'] < '2022-03-18'].shape[0]\n",
    "print(f'Quantidade de servidores que ingressaram antes de 18/03/2022: {antes_2022}')\n",
    "\n"
   ]
  },
  {
   "cell_type": "code",
   "execution_count": 38,
   "metadata": {},
   "outputs": [
    {
     "name": "stdout",
     "output_type": "stream",
     "text": [
      "Quantidade de servidoras do sexo feminino que ingressaram antes de 2014 e nasceram em/antes de 1962:49\n",
      "Quantidade de servidoras do sexo feminino que ingressaram antes de 2014 e nasceram em/antes de 1962 e tem mais de 25 anos de serviço público:40\n",
      "Quantidade de servidores do sexo masculino que ingressaram antes de 2014 e nasceram em/antes de 1959:19\n",
      "Quantidade de servidores do sexo masculino que ingressaram antes de 2014 e nasceram em/antes de 1959 e tem mais de 35 anos de serviço público:5\n"
     ]
    }
   ],
   "source": [
    "## Vamos criar um dataset, com as servidoras que tem mais de 62 anos, e no mínimo 10 anos de serviço público\n",
    "servidoras_possivelmente_aposentaveis = bibliotecas[(bibliotecas['SEXO'] == 'F') & (bibliotecas['ANO_NASCIMENTO'] <= 1962) & (bibliotecas['DATA_INICIO_EXERC'] < '2014-01-01')]\n",
    "\n",
    "##Mostrar a quantidade de servidoras aposentáveis\n",
    "print(f'Quantidade de servidoras do sexo feminino que ingressaram antes de 2014 e nasceram em/antes de 1962:{len(servidoras_possivelmente_aposentaveis)}')\n",
    "\n",
    "##Dentre esses servidores, quantos tem mais de 25 anos de serviço público\n",
    "servidoras_certamente_aposentaveis = servidoras_possivelmente_aposentaveis[servidoras_possivelmente_aposentaveis['DATA_INICIO_EXERC'] < '1999-01-01']\n",
    "print(f'Quantidade de servidoras do sexo feminino que ingressaram antes de 2014 e nasceram em/antes de 1962 e tem mais de 25 anos de serviço público:{len(servidoras_certamente_aposentaveis)}')\n",
    "\n",
    "##Faremos o mesmo para os servidores do sexo masculino\n",
    "servidores_possivelmente_aposentaveis = bibliotecas[(bibliotecas['SEXO'] == 'M') & (bibliotecas['ANO_NASCIMENTO'] <= 1959) & (bibliotecas['DATA_INICIO_EXERC'] < '2014-01-01')]\n",
    "print(f'Quantidade de servidores do sexo masculino que ingressaram antes de 2014 e nasceram em/antes de 1959:{len(servidores_possivelmente_aposentaveis)}')\n",
    "\n",
    "servidores_certamente_aposentaveis = servidores_possivelmente_aposentaveis[servidores_possivelmente_aposentaveis['DATA_INICIO_EXERC'] < '1989-01-01']\n",
    "print(f'Quantidade de servidores do sexo masculino que ingressaram antes de 2014 e nasceram em/antes de 1959 e tem mais de 35 anos de serviço público:{len(servidores_certamente_aposentaveis)}')\n",
    "\n",
    "\n",
    "##Criar um novo dataframe com os servidores que ingressaram antes de 19 e nasceram em ou antes de 1959\n"
   ]
  },
  {
   "cell_type": "code",
   "execution_count": 39,
   "metadata": {},
   "outputs": [
    {
     "name": "stdout",
     "output_type": "stream",
     "text": [
      "<class 'pandas.core.frame.DataFrame'>\n",
      "RangeIndex: 45 entries, 0 to 44\n",
      "Data columns (total 13 columns):\n",
      " #   Column              Non-Null Count  Dtype         \n",
      "---  ------              --------------  -----         \n",
      " 0   REGISTRO            45 non-null     object        \n",
      " 1   NOME                45 non-null     object        \n",
      " 2   CARGO_BASICO        45 non-null     object        \n",
      " 3   SEGMENTO            8 non-null      object        \n",
      " 4   SUBGRUPO            45 non-null     object        \n",
      " 5   ESCOL_CARGO_BASICO  45 non-null     object        \n",
      " 6   CARGO_COMISSAO      3 non-null      object        \n",
      " 7   DATA_INICIO_EXERC   45 non-null     datetime64[ns]\n",
      " 8   REL_JUR_ADM         45 non-null     object        \n",
      " 9   SECRET_SUBPREF      45 non-null     object        \n",
      " 10  SETOR               45 non-null     object        \n",
      " 11  SEXO                45 non-null     object        \n",
      " 12  ANO_NASCIMENTO      45 non-null     int32         \n",
      "dtypes: datetime64[ns](1), int32(1), object(11)\n",
      "memory usage: 4.5+ KB\n",
      "<class 'pandas.core.frame.DataFrame'>\n",
      "RangeIndex: 68 entries, 0 to 67\n",
      "Data columns (total 13 columns):\n",
      " #   Column              Non-Null Count  Dtype         \n",
      "---  ------              --------------  -----         \n",
      " 0   REGISTRO            68 non-null     object        \n",
      " 1   NOME                68 non-null     object        \n",
      " 2   CARGO_BASICO        68 non-null     object        \n",
      " 3   SEGMENTO            14 non-null     object        \n",
      " 4   SUBGRUPO            68 non-null     object        \n",
      " 5   ESCOL_CARGO_BASICO  68 non-null     object        \n",
      " 6   CARGO_COMISSAO      8 non-null      object        \n",
      " 7   DATA_INICIO_EXERC   68 non-null     datetime64[ns]\n",
      " 8   REL_JUR_ADM         68 non-null     object        \n",
      " 9   SECRET_SUBPREF      68 non-null     object        \n",
      " 10  SETOR               68 non-null     object        \n",
      " 11  SEXO                68 non-null     object        \n",
      " 12  ANO_NASCIMENTO      68 non-null     int32         \n",
      "dtypes: datetime64[ns](1), int32(1), object(11)\n",
      "memory usage: 6.8+ KB\n"
     ]
    }
   ],
   "source": [
    "##criar um novo dataframe sem os servidores e servidoras que certamente se aposentarão\n",
    "certamente_aposentaveis = pd.concat([servidoras_certamente_aposentaveis, servidores_certamente_aposentaveis], ignore_index=True)\n",
    "certamente_aposentaveis.info()\n",
    "\n",
    "##criar um novo dataframe sem os servidores e servidoras que possivelmente se aposentarão\n",
    "possivelmente_aposentaveis = pd.concat([servidoras_possivelmente_aposentaveis, servidores_possivelmente_aposentaveis], ignore_index=True)\n",
    "possivelmente_aposentaveis.info()"
   ]
  },
  {
   "cell_type": "code",
   "execution_count": 41,
   "metadata": {},
   "outputs": [
    {
     "name": "stdout",
     "output_type": "stream",
     "text": [
      "<class 'pandas.core.frame.DataFrame'>\n",
      "Index: 294 entries, 57516 to 127354\n",
      "Data columns (total 13 columns):\n",
      " #   Column              Non-Null Count  Dtype         \n",
      "---  ------              --------------  -----         \n",
      " 0   REGISTRO            294 non-null    object        \n",
      " 1   NOME                294 non-null    object        \n",
      " 2   CARGO_BASICO        294 non-null    object        \n",
      " 3   SEGMENTO            99 non-null     object        \n",
      " 4   SUBGRUPO            294 non-null    object        \n",
      " 5   ESCOL_CARGO_BASICO  294 non-null    object        \n",
      " 6   CARGO_COMISSAO      65 non-null     object        \n",
      " 7   DATA_INICIO_EXERC   294 non-null    datetime64[ns]\n",
      " 8   REL_JUR_ADM         294 non-null    object        \n",
      " 9   SECRET_SUBPREF      294 non-null    object        \n",
      " 10  SETOR               294 non-null    object        \n",
      " 11  SEXO                294 non-null    object        \n",
      " 12  ANO_NASCIMENTO      294 non-null    int32         \n",
      "dtypes: datetime64[ns](1), int32(1), object(11)\n",
      "memory usage: 31.0+ KB\n"
     ]
    }
   ],
   "source": [
    "##Removendo do dataset original os servidores e servidoras que certamente se aposentarão, usando a coluna REGISTRO como chave\n",
    "servidores_restantes = bibliotecas[~bibliotecas['REGISTRO'].isin(certamente_aposentaveis['REGISTRO'])]\n",
    "servidores_restantes.info()\n"
   ]
  },
  {
   "cell_type": "code",
   "execution_count": 43,
   "metadata": {},
   "outputs": [
    {
     "name": "stdout",
     "output_type": "stream",
     "text": [
      "                                                SETOR  QUANTIDADE\n",
      "0                           SUPERVISAO DE BIBLIOTECAS          32\n",
      "1     COORDENACAO DO SISTEMA MUNICIPAL DE BIBLIOTECAS          14\n",
      "2        BIBLIOTECA PUBLICA MUNICIPAL AFONSO SCHIMIDT          11\n",
      "3        BIBLIOTECA PUBLICA MUNICIPAL MONTEIRO LOBATO           9\n",
      "4     BIBLIOTECA PUBLICA MUNICIPAL VINICIUS DE MORAES           7\n",
      "5   BIBLIOTECA PUBLICA MUNICIPAL PE. JOSE DE ANCHIETA           7\n",
      "6    BIBLIOTECA PUBLICA MUNICIPAL RAIMUNDO DE MENEZES           7\n",
      "7          BIBLIOTECA PUBLICA MUNICIPAL RICARDO RAMOS           7\n",
      "11    BIBLIOTECA PUBLICA MUNICIPAL ALVARES DE AZEVEDO           6\n",
      "13         BIBLIOTECA PUBLICA MUNICIPAL CORA CORALINA           6\n",
      "12   BIBLIOTECA PUBLICA MUNICIPAL MENOTTI DEL PICCHIA           6\n",
      "10        BIBLIOTECA PUBLICA MUNICIPAL VIRIATO CORREA           6\n",
      "9   BIBLIOTECA PUBLICA MUNICIPAL JAMIL ALMANSUR HADDA           6\n",
      "8             BIBLIOTECA PUBLICA MUNICIPAL ANNE FRANK           6\n",
      "21    BIBLIOTECA PUBLICA MUNICIPAL ADELPHA FIGUEIREDO           5\n",
      "26          BIBLIOTECA PUBLICA MUNICIPAL CASTRO ALVES           5\n",
      "25  BIBLIOTECA PUBLICA MUNICIPAL CAMILA CERQUEIRA ...           5\n",
      "24       BIBLIOTECA PUBLICA MUNICIPAL AURELIANO LEITE           5\n",
      "23  BIBLIOTECA PUBLICA MUNICIPAL HANS CHRISTIAN ANDER           5\n",
      "22    BIBLIOTECA PUBLICA MUNICIPAL ALCEU AMOROSO LIMA           5\n",
      "16                    NUCLEO DE BIBLIOTECAS ESPECIAIS           5\n",
      "20  BIBLIOTECA PUBLICA MUNICIPAL JOSE MAURO DE VASCON           5\n",
      "19  BIBLIOTECA PUBLICA MUNICIPAL JOVINA ROCHA ALVARES           5\n",
      "18     BIBLIOTECA PUBLICA MUNICIPAL LENYRA FRACCAROLI           5\n",
      "17            BIBLIOTECA PUBLICA MUNICIPAL MARCOS REY           5\n",
      "15            BIBLIOTECA PUBLICA MUNICIPAL PEDRO NAVA           5\n",
      "14        BIBLIOTECA PUBLICA MUNICIPAL ROBERTO SANTOS           5\n",
      "34       BIBLIOTECA PUBLICA MUNICIPAL MARIO SCHENBERG           4\n",
      "39     BIBLIOTECA PUBLICA MUNICIPAL CLARICE LISPECTOR           4\n",
      "38        BIBLIOTECA PUBLICA MUNICIPAL NUTO SANT'ANNA           4\n",
      "37       BIBLIOTECA PUBLICA MUNICIPAL ERICO VERISSIMO           4\n",
      "36           BIBLIOTECA PUBLICA MUNICIPAL MALBA TAHAN           4\n",
      "35         BIBLIOTECA PUBLICA MUNICIPAL NARBAL FONTES           4\n",
      "29  BIBLIOTECA PUBLICA MUNICIPAL VICENTE PAULO GUI...           4\n",
      "33              BIBLIOTECA PUBLICA MUNICIPAL BELMONTE           4\n",
      "31  BIBLIOTECA PUBLICA MUNICIPAL SERGIO BUARQUE DE...           4\n",
      "30   BIBLIOTECA PUBLICA MUNICIPAL VICENTE DE CARVALHO           4\n",
      "28  BIBLIOTECA PUBLICA MUNICIPAL PAULO SERGIO DUAR...           4\n",
      "27  BIBLIOTECA PUBLICA MUNICIPAL PREFEITO PRESTES MAI           4\n",
      "32  BIBLIOTECA PUBLICA MUNICIPAL RUBENS BORBA ALVE...           4\n",
      "45           BIBLIOTECA PUBLICA MUNICIPAL BRITO BROCA           3\n",
      "49      BIBLIOTECA PUBLICA MUNICIPAL CASSIANO RICARDO           3\n",
      "48       BIBLIOTECA PUBLICA MUNICIPAL HELENA SILVEIRA           3\n",
      "47  BIBLIOTECA PUBLICA MUNICIPAL PROF ARNALDO MAGA...           3\n",
      "46             BIBLIOTECA PUBLICA MUNICIPAL RAUL BOPP           3\n",
      "44          BIBLIOTECA PUBLICA MUNICIPAL JAYME CORTEZ           3\n",
      "43  BIBLIOTECA PUBLICA MUNICIPAL THALES CASTANHO D...           3\n",
      "42       BIBLIOTECA PUBLICA MUNICIPAL JOSE PAULO PAES           3\n",
      "41         BIBLIOTECA PUBLICA MUNICIPAL MILTON SANTOS           3\n",
      "40        BIBLIOTECA PUBLICA MUNICIPAL AFFONSO TAUNAY           3\n",
      "50    BIBLIOTECA PUBLICA MUNICIPAL CHACARA DO CASTELO           2\n",
      "51         BIBLIOTECA PUBLICA MUNICIPAL SYLVIA ORTHOF           2\n",
      "52       BIBLIOTECA PUBLICA MUNICIPAL GILBERTO FREYRE           2\n",
      "53         BIBLIOTECA PUBLICA MUNICIPAL AMADEU AMARAL           2\n",
      "54         BIBLIOTECA PUBLICA MUNICIPAL ALVARO GUERRA           2\n",
      "55         BIBLIOTECA PUBLICA MUNICIPAL PAULO SETUBAL           2\n",
      "56  NUCLEO REGIONAL DE BIBLIOTECAS CENTRO, NORTE E...           2\n",
      "57          BIBLIOTECA PUBLICA MUNICIPAL PAULO DUARTE           2\n",
      "58         NUCLEO REGIONAL DE BIBLIOTECAS LESTE E SUL           1\n"
     ]
    }
   ],
   "source": [
    "##Verificando após a remoção de servidores que possivelmente se aposentarão, quantos servidores restaram em cada setor\n",
    "setores_contagem_apos = servidores_restantes['SETOR'].value_counts()\n",
    "setores_contagem_apos = setores_contagem_apos.reset_index()\n",
    "setores_contagem_apos.columns = ['SETOR', 'QUANTIDADE']\n",
    "setores_contagem_apos = setores_contagem_apos.sort_values(by='QUANTIDADE', ascending=False)\n",
    "print(setores_contagem_apos)"
   ]
  },
  {
   "cell_type": "code",
   "execution_count": 47,
   "metadata": {},
   "outputs": [
    {
     "name": "stdout",
     "output_type": "stream",
     "text": [
      "Quantidade de servidoras do sexo feminino que ingressaram antes de 1994 e nasceram em/antes de 1967:61\n"
     ]
    }
   ],
   "source": [
    "##Do dataframe bibliotecas, extrairemos um dataset com as servidoras que terão mais de 57 anos ao final de 2024, e que terão mais de 30 anos de serviço público\n",
    "servidoras_30mais = bibliotecas[(bibliotecas['SEXO'] == 'F') & (bibliotecas['ANO_NASCIMENTO'] <= 1967) & (bibliotecas['DATA_INICIO_EXERC'] < '1994-01-01')]\n",
    "print(f'Quantidade de servidoras do sexo feminino que ingressaram antes de 1994 e nasceram em/antes de 1967:{len(servidoras_30mais)}')\n"
   ]
  },
  {
   "cell_type": "code",
   "execution_count": 53,
   "metadata": {},
   "outputs": [
    {
     "name": "stdout",
     "output_type": "stream",
     "text": [
      "Quantidade de servidoras do sexo feminino que ingressaram antes de 2020 e nasceram em/antes de 1967:86\n",
      "Quantidade de servidoras do sexo feminino que ingressaram antes de 2019 e nasceram em/antes de 1967 e tem mais de 25 anos de serviço público:74\n",
      "Quantidade de servidores do sexo masculino que ingressaram antes de 2020 e nasceram em/antes de 1964:50\n",
      "Quantidade de servidores do sexo masculino que ingressaram antes de 2019 e nasceram em/antes de 1964 e tem mais de 25 anos de serviço público:48\n"
     ]
    }
   ],
   "source": [
    "##Faremos uma projeção para o final de 2029, e verificaremos quantas servidoras terão mais de 62 anos, e mais de 10 anos de serviço público\n",
    "proj_4anos_servidoras_62_10 = bibliotecas[(bibliotecas['SEXO'] == 'F') & (bibliotecas['ANO_NASCIMENTO'] <= 1967) & (bibliotecas['DATA_INICIO_EXERC'] < '2020-01-01')]\n",
    "print(f'Quantidade de servidoras do sexo feminino que ingressaram antes de 2020 e nasceram em/antes de 1967:{len(proj_4anos_servidoras_62_10)}')\n",
    "\n",
    "##Vamos verificar quantas dessas terão mais de 25 anos de serviço público\n",
    "proj_4anos_servidoras_62_25 = proj_4anos_servidoras_62_10[proj_4anos_servidoras_62_10['DATA_INICIO_EXERC'] < '2005-01-01']\n",
    "print(f'Quantidade de servidoras do sexo feminino que ingressaram antes de 2019 e nasceram em/antes de 1967 e tem mais de 25 anos de serviço público:{len(proj_4anos_servidoras_62_25)}')\n",
    "\n",
    "##Faremos o mesmo para os servidores do sexo masculino\n",
    "proj_4anos_servidores_65_10 = bibliotecas[(bibliotecas['SEXO'] == 'M') & (bibliotecas['ANO_NASCIMENTO'] <= 1964) & (bibliotecas['DATA_INICIO_EXERC'] < '2020-01-01')]\n",
    "print(f'Quantidade de servidores do sexo masculino que ingressaram antes de 2020 e nasceram em/antes de 1964:{len(proj_4anos_servidores_65_10)}')\n",
    "\n",
    "proj_4anos_servidores_65_25 = proj_4anos_servidores_65_10[proj_4anos_servidores_65_10['DATA_INICIO_EXERC'] < '2005-01-01']\n",
    "print(f'Quantidade de servidores do sexo masculino que ingressaram antes de 2019 e nasceram em/antes de 1964 e tem mais de 25 anos de serviço público:{len(proj_4anos_servidores_65_25)}')"
   ]
  },
  {
   "cell_type": "code",
   "execution_count": null,
   "metadata": {},
   "outputs": [],
   "source": []
  },
  {
   "cell_type": "code",
   "execution_count": null,
   "metadata": {},
   "outputs": [],
   "source": []
  }
 ],
 "metadata": {
  "kernelspec": {
   "display_name": "Python 3",
   "language": "python",
   "name": "python3"
  },
  "language_info": {
   "codemirror_mode": {
    "name": "ipython",
    "version": 3
   },
   "file_extension": ".py",
   "mimetype": "text/x-python",
   "name": "python",
   "nbconvert_exporter": "python",
   "pygments_lexer": "ipython3",
   "version": "3.10.6"
  }
 },
 "nbformat": 4,
 "nbformat_minor": 2
}
